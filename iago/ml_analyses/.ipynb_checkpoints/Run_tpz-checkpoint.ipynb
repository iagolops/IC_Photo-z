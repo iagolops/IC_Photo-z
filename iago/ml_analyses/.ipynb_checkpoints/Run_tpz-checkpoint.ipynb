{
 "cells": [
  {
   "cell_type": "code",
   "execution_count": 1,
   "id": "8cf0aa18-0808-4165-8544-630ddbe27ecc",
   "metadata": {
    "tags": []
   },
   "outputs": [],
   "source": [
    "import os\n",
    "import subprocess"
   ]
  },
  {
   "cell_type": "markdown",
   "id": "66b83984-d7fd-4756-b16a-3084b2d38c3a",
   "metadata": {},
   "source": [
    "## Rodando o TPZ com os dados do SDSS"
   ]
  },
  {
   "cell_type": "code",
   "execution_count": 2,
   "id": "f49724b5-f31d-4b61-9a43-748ef8255ab0",
   "metadata": {
    "tags": []
   },
   "outputs": [
    {
     "name": "stdout",
     "output_type": "stream",
     "text": [
      "/home/iago.dias/tpz/lib/python2.7/site-packages/pyfits/__init__.py:22: PyFITSDeprecationWarning: PyFITS is deprecated, please use astropy.io.fits\n",
      "  PyFITSDeprecationWarning)  # noqa\n",
      "\u001b[H\u001b[2J\n",
      "\u001b[94m[MLZ]  ------------------------------------------------\u001b[0m\n",
      "\u001b[94m[MLZ]  |      ____    ____    _____      ________     |\u001b[0m\n",
      "\u001b[94m[MLZ]  |     |_   \\  /   _|  |_   _|    |  __   _|    |\u001b[0m\n",
      "\u001b[94m[MLZ]  |       |   \\/   |      | |      |_/  / /      |\u001b[0m\n",
      "\u001b[94m[MLZ]  |       | |\\  /| |      | |   _     .'.' _     |\u001b[0m\n",
      "\u001b[94m[MLZ]  |      _| |_\\/_| |_    _| |__/ |  _/ /__/ |    |\u001b[0m\n",
      "\u001b[94m[MLZ]  |     |_____||_____|  |________| |________|    |\u001b[0m\n",
      "\u001b[94m[MLZ]  |                                              |\u001b[0m\n",
      "\u001b[94m[MLZ]  |                                              |\u001b[0m\n",
      "\u001b[94m[MLZ]  |      Machine   Learning   for   photo-Z      |\u001b[0m\n",
      "\u001b[94m[MLZ]  |----------------------------------------------|\u001b[0m\n",
      "[MLZ]  \n",
      "[MLZ]  -----------------time--------------------\n",
      "[MLZ]  Start : Tue Aug 29 17:18:18 2023\n",
      "[MLZ]  -----------------time--------------------\n",
      "[MLZ]  \n",
      "[MLZ]  Reading parameters from : /home/iago.dias/MLZ/mlz/test/SDSS_MGS.inputs...\n",
      "[MLZ]  Starting with 1 processors\n",
      "[MLZ]  \n",
      "[MLZ]  -> NUMBER OF GALAXIES IN TRAIN CATALOG : 5000\n",
      "[MLZ]  \n",
      "[MLZ]  -----------------------------------------------------------\n",
      "[MLZ]  ___  __  __ \n",
      "[MLZ]   |  |__)  / \n",
      "[MLZ]   |  |    /_ \n",
      "[MLZ]  -----------------------------------------------------------\n",
      "[MLZ]  \n",
      "[MLZ]  \n",
      "[MLZ]  -----------------------------------------------------------\n",
      "[MLZ]   __   ___  __   __   ___  __   __     __      \n",
      "[MLZ]  |__) |__  / _` |__) |__  /__` /__` | /  \\ |\\ |\n",
      "[MLZ]  |  \\ |___ \\__> |  \\ |___ .__/ .__/ | \\__/ | \\|\n",
      "[MLZ]  -----------------------------------------------------------\n",
      "[MLZ]  \n",
      "[MLZ]  Total trees (maps) : 8\n",
      "[MLZ]  0 8 -------------> to core 0\n",
      "[MLZ]  \n",
      "[MLZ]  +-+-+-+-+-+-+-+-+-+-+-+-+\n",
      "[MLZ]  MPI time Training\n",
      "[MLZ]  +-+-+-+-+-+-+-+-+-+-+-+-+\n",
      "[MLZ]  \n",
      "[MLZ]  -----------------time--------------------\n",
      "[MLZ]  Check 1 : Tue Aug 29 17:20:31 2023\n",
      "[MLZ]  Elapsed 1 :00:02:12\n",
      "[MLZ]  -----------------time--------------------\n",
      "[MLZ]  \n",
      "[MLZ]  -> NUMBER OF GALAXIES IN TEST CATALOG : 5000\n",
      "[MLZ]  0 5000 -------------> to core 0\n",
      "[MLZ]  Loading 8 trees...\n",
      "[MLZ]  \n",
      "[MLZ]  +-+-+-+-+-+-+-+-+-+-+-+-+\n",
      "[MLZ]  MPI time Testing\n",
      "[MLZ]  +-+-+-+-+-+-+-+-+-+-+-+-+\n",
      "[MLZ]  \n",
      "[MLZ]  -----------------time--------------------\n",
      "[MLZ]  Check 1 : Tue Aug 29 17:20:36 2023\n",
      "[MLZ]  Elapsed 1 :00:00:05\n",
      "[MLZ]  -----------------time--------------------\n",
      "[MLZ]  \n",
      "[MLZ]  \n",
      "[MLZ]  *************************************\n",
      "[MLZ]  ** Collecting data from processors **\n",
      "[MLZ]  *************************************\n",
      "[MLZ]  \n",
      "[MLZ]  Saving Original PDFs\n",
      "[MLZ]  \n",
      "\u001b[92m[MLZ]  +-+-+-+-+-+-+-+-+\u001b[0m\n",
      "\u001b[92m[MLZ]  MPI TOTAL TIME\u001b[0m\n",
      "\u001b[92m[MLZ]  +-+-+-+-+-+-+-+-+\u001b[0m\n",
      "[MLZ]  \n",
      "[MLZ]  -----------------time--------------------\n",
      "[MLZ]  Check 1 : Tue Aug 29 17:20:36 2023\n",
      "[MLZ]  Elapsed 1 :00:02:18\n",
      "[MLZ]  -----------------time--------------------\n",
      "[MLZ]  \n"
     ]
    }
   ],
   "source": [
    "arquivo='~/MLZ/mlz/test/SDSS_MGS.inputs'\n",
    "runmlz='~/MLZ/mlz/runMLZ'\n",
    "python='/home/iago.dias/tpz/bin/python2.7'\n",
    "\n",
    "!$python $runmlz $arquivo\n"
   ]
  },
  {
   "cell_type": "markdown",
   "id": "7afb7d6e-ba89-4f24-8cdc-944e1d1fe712",
   "metadata": {},
   "source": [
    "## Rodando o tpz com os dados do DES_DR2"
   ]
  },
  {
   "cell_type": "code",
   "execution_count": 5,
   "id": "d530929f-3f0a-4c75-a5b4-ba9ff46d2789",
   "metadata": {
    "tags": []
   },
   "outputs": [
    {
     "name": "stdout",
     "output_type": "stream",
     "text": [
      "/home/iago.dias/tpz/lib/python2.7/site-packages/pyfits/__init__.py:22: PyFITSDeprecationWarning: PyFITS is deprecated, please use astropy.io.fits\n",
      "  PyFITSDeprecationWarning)  # noqa\n",
      "\u001b[H\u001b[2J\n",
      "\u001b[94m[MLZ]  ------------------------------------------------\u001b[0m\n",
      "\u001b[94m[MLZ]  |      ____    ____    _____      ________     |\u001b[0m\n",
      "\u001b[94m[MLZ]  |     |_   \\  /   _|  |_   _|    |  __   _|    |\u001b[0m\n",
      "\u001b[94m[MLZ]  |       |   \\/   |      | |      |_/  / /      |\u001b[0m\n",
      "\u001b[94m[MLZ]  |       | |\\  /| |      | |   _     .'.' _     |\u001b[0m\n",
      "\u001b[94m[MLZ]  |      _| |_\\/_| |_    _| |__/ |  _/ /__/ |    |\u001b[0m\n",
      "\u001b[94m[MLZ]  |     |_____||_____|  |________| |________|    |\u001b[0m\n",
      "\u001b[94m[MLZ]  |                                              |\u001b[0m\n",
      "\u001b[94m[MLZ]  |                                              |\u001b[0m\n",
      "\u001b[94m[MLZ]  |      Machine   Learning   for   photo-Z      |\u001b[0m\n",
      "\u001b[94m[MLZ]  |----------------------------------------------|\u001b[0m\n",
      "[MLZ]  \n",
      "[MLZ]  -----------------time--------------------\n",
      "[MLZ]  Start : Tue Aug 29 18:11:50 2023\n",
      "[MLZ]  -----------------time--------------------\n",
      "[MLZ]  \n",
      "[MLZ]  Reading parameters from : /home/iago.dias/MLZ/mlz/test/DES_VIPERS.inputs...\n",
      "[MLZ]  Starting with 1 processors\n",
      "[MLZ]  \n",
      "[MLZ]  -> NUMBER OF GALAXIES IN TRAIN CATALOG : 17220\n",
      "[MLZ]  \n",
      "[MLZ]  -----------------------------------------------------------\n",
      "[MLZ]  ___  __  __ \n",
      "[MLZ]   |  |__)  / \n",
      "[MLZ]   |  |    /_ \n",
      "[MLZ]  -----------------------------------------------------------\n",
      "[MLZ]  \n",
      "[MLZ]  \n",
      "[MLZ]  -----------------------------------------------------------\n",
      "[MLZ]   __   ___  __   __   ___  __   __     __      \n",
      "[MLZ]  |__) |__  / _` |__) |__  /__` /__` | /  \\ |\\ |\n",
      "[MLZ]  |  \\ |___ \\__> |  \\ |___ .__/ .__/ | \\__/ | \\|\n",
      "[MLZ]  -----------------------------------------------------------\n",
      "[MLZ]  \n",
      "[MLZ]  Total trees (maps) : 8\n",
      "[MLZ]  0 8 -------------> to core 0\n",
      "[MLZ]  \n",
      "[MLZ]  +-+-+-+-+-+-+-+-+-+-+-+-+\n",
      "[MLZ]  MPI time Training\n",
      "[MLZ]  +-+-+-+-+-+-+-+-+-+-+-+-+\n",
      "[MLZ]  \n",
      "[MLZ]  -----------------time--------------------\n",
      "[MLZ]  Check 1 : Tue Aug 29 18:21:47 2023\n",
      "[MLZ]  Elapsed 1 :00:09:57\n",
      "[MLZ]  -----------------time--------------------\n",
      "[MLZ]  \n",
      "[MLZ]  -> NUMBER OF GALAXIES IN TEST CATALOG : 17220\n",
      "[MLZ]  0 17220 -------------> to core 0\n",
      "[MLZ]  Loading 8 trees...\n",
      "[MLZ]  \n",
      "[MLZ]  +-+-+-+-+-+-+-+-+-+-+-+-+\n",
      "[MLZ]  MPI time Testing\n",
      "[MLZ]  +-+-+-+-+-+-+-+-+-+-+-+-+\n",
      "[MLZ]  \n",
      "[MLZ]  -----------------time--------------------\n",
      "[MLZ]  Check 1 : Tue Aug 29 18:22:05 2023\n",
      "[MLZ]  Elapsed 1 :00:00:17\n",
      "[MLZ]  -----------------time--------------------\n",
      "[MLZ]  \n",
      "[MLZ]  \n",
      "[MLZ]  *************************************\n",
      "[MLZ]  ** Collecting data from processors **\n",
      "[MLZ]  *************************************\n",
      "[MLZ]  \n",
      "[MLZ]  Saving Original PDFs\n",
      "[MLZ]  \n",
      "\u001b[92m[MLZ]  +-+-+-+-+-+-+-+-+\u001b[0m\n",
      "\u001b[92m[MLZ]  MPI TOTAL TIME\u001b[0m\n",
      "\u001b[92m[MLZ]  +-+-+-+-+-+-+-+-+\u001b[0m\n",
      "[MLZ]  \n",
      "[MLZ]  -----------------time--------------------\n",
      "[MLZ]  Check 1 : Tue Aug 29 18:22:05 2023\n",
      "[MLZ]  Elapsed 1 :00:10:15\n",
      "[MLZ]  -----------------time--------------------\n",
      "[MLZ]  \n"
     ]
    }
   ],
   "source": [
    "arquivo = '/home/iago.dias/MLZ/mlz/test/DES_VIPERS.inputs'\n",
    "runmlz = '~/MLZ/mlz/runMLZ'\n",
    "python = '/home/iago.dias/tpz/bin/python2.7'\n",
    "\n",
    "!$python $runmlz $arquivo\n"
   ]
  },
  {
   "cell_type": "code",
   "execution_count": null,
   "id": "dd4c632b-54e5-4966-b77d-8edb8d490e3c",
   "metadata": {},
   "outputs": [],
   "source": []
  }
 ],
 "metadata": {
  "kernelspec": {
   "display_name": "tpz",
   "language": "python",
   "name": "tpz"
  },
  "language_info": {
   "codemirror_mode": {
    "name": "ipython",
    "version": 2
   },
   "file_extension": ".py",
   "mimetype": "text/x-python",
   "name": "python",
   "nbconvert_exporter": "python",
   "pygments_lexer": "ipython2",
   "version": "2.7.15"
  }
 },
 "nbformat": 4,
 "nbformat_minor": 5
}
