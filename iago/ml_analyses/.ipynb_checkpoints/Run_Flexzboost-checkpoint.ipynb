{
 "cells": [
  {
   "cell_type": "code",
   "execution_count": 1,
   "id": "e97ccc00-642e-4597-9aa2-3b2616ca3307",
   "metadata": {
    "tags": []
   },
   "outputs": [],
   "source": [
    "import numpy as np\n",
    "import matplotlib.pyplot as plt\n",
    "import flexcode\n",
    "from flexcode.regression_models import NN"
   ]
  },
  {
   "cell_type": "code",
   "execution_count": 2,
   "id": "8fced782-bcd3-4b7d-9028-8c17244bc4b4",
   "metadata": {
    "tags": []
   },
   "outputs": [],
   "source": [
    "basis_system = \"cosine\"\n",
    "max_basis = 31\n",
    "params = {\"k\": [5, 10, 15, 20]}\n",
    "model = flexcode.FlexCodeModel(NN, max_basis, basis_system, regression_params=params)"
   ]
  },
  {
   "cell_type": "code",
   "execution_count": 3,
   "id": "2b38181a-48cf-4e4c-ab9e-cf1e7856d4d1",
   "metadata": {
    "tags": []
   },
   "outputs": [
    {
     "name": "stdout",
     "output_type": "stream",
     "text": [
      "(17220, 5)\n",
      "(17220,)\n"
     ]
    }
   ],
   "source": [
    "data_train = np.loadtxt('/home/iago.dias/MLZ/mlz/test/DES_VIPERS.train')\n",
    "data_test = np.loadtxt('/home/iago.dias/MLZ/mlz/test/DES_VIPERS.test')\n",
    "data_predict = data_test[:10000]\n",
    "data_validation = data_test[10000:]\n",
    "zs,g,r,i,z,y = data_train.T[:6]\n",
    "x_train = np.array([g,r,i,z,y]).T\n",
    "print(x_train.shape)\n",
    "print(zs.shape)"
   ]
  },
  {
   "cell_type": "code",
   "execution_count": 4,
   "id": "602f94cf-e555-4e35-8ddb-b80db77d9242",
   "metadata": {
    "tags": []
   },
   "outputs": [
    {
     "name": "stdout",
     "output_type": "stream",
     "text": [
      "Fitting 5 folds for each of 4 candidates, totalling 20 fits\n",
      "[CV] END ...........................estimator__n_neighbors=5; total time=   2.5s\n",
      "[CV] END ...........................estimator__n_neighbors=5; total time=   1.2s\n",
      "[CV] END ...........................estimator__n_neighbors=5; total time=   1.1s\n",
      "[CV] END ...........................estimator__n_neighbors=5; total time=   1.1s\n",
      "[CV] END ...........................estimator__n_neighbors=5; total time=   1.1s\n",
      "[CV] END ..........................estimator__n_neighbors=10; total time=   1.3s\n",
      "[CV] END ..........................estimator__n_neighbors=10; total time=   1.4s\n",
      "[CV] END ..........................estimator__n_neighbors=10; total time=   1.3s\n",
      "[CV] END ..........................estimator__n_neighbors=10; total time=   1.3s\n",
      "[CV] END ..........................estimator__n_neighbors=10; total time=   1.3s\n",
      "[CV] END ..........................estimator__n_neighbors=15; total time=   1.5s\n",
      "[CV] END ..........................estimator__n_neighbors=15; total time=   1.5s\n",
      "[CV] END ..........................estimator__n_neighbors=15; total time=   1.5s\n",
      "[CV] END ..........................estimator__n_neighbors=15; total time=   1.5s\n",
      "[CV] END ..........................estimator__n_neighbors=15; total time=   1.5s\n",
      "[CV] END ..........................estimator__n_neighbors=20; total time=   1.7s\n",
      "[CV] END ..........................estimator__n_neighbors=20; total time=   1.7s\n",
      "[CV] END ..........................estimator__n_neighbors=20; total time=   1.6s\n",
      "[CV] END ..........................estimator__n_neighbors=20; total time=   1.6s\n",
      "[CV] END ..........................estimator__n_neighbors=20; total time=   1.7s\n"
     ]
    }
   ],
   "source": [
    "model.fit(x_train,zs)\n"
   ]
  },
  {
   "cell_type": "code",
   "execution_count": 5,
   "id": "0a38ff41-7f54-4db6-bfc9-78082fdcd43d",
   "metadata": {
    "tags": []
   },
   "outputs": [],
   "source": [
    "zs_v, g_v, r_v, i_v, z_v, y_v = data_test.T[:6]\n",
    "x_validation = np.array([g_v, r_v, i_v, z_v, y_v]).T\n",
    "ztrue, g_p, r_p, i_p, z_p, y_p = data_predict.T[:6]\n",
    "x_predict = np.array([g_p, r_p, i_p, z_p, y_p]).T\n"
   ]
  },
  {
   "cell_type": "code",
   "execution_count": 6,
   "id": "d59f7b18-a998-485e-8083-11d75b10aab4",
   "metadata": {
    "tags": []
   },
   "outputs": [],
   "source": [
    "model.tune(x_validation,zs_v)"
   ]
  },
  {
   "cell_type": "code",
   "execution_count": 7,
   "id": "5e8f7272-8036-48df-9bf4-2a6114c3b49c",
   "metadata": {
    "tags": []
   },
   "outputs": [],
   "source": [
    "cde_test, y_grid = model.predict(x_predict, n_grid=2)"
   ]
  },
  {
   "cell_type": "code",
   "execution_count": 8,
   "id": "37c95b56-0e9e-44d1-b57b-619b83df0aaa",
   "metadata": {
    "tags": []
   },
   "outputs": [],
   "source": [
    "diff = cde_test.T[0]-ztrue"
   ]
  },
  {
   "cell_type": "code",
   "execution_count": 11,
   "id": "5da18f72-da49-4ee6-b8ee-27d0f23f9d04",
   "metadata": {},
   "outputs": [
    {
     "data": {
      "text/plain": [
       "array([[0.8570696 , 0.8570696 ],\n",
       "       [0.62163931, 0.62163931],\n",
       "       [0.97395452, 0.25011058],\n",
       "       ...,\n",
       "       [1.2240651 , 0.        ],\n",
       "       [1.2240651 , 0.        ],\n",
       "       [0.71571842, 0.71571842]])"
      ]
     },
     "execution_count": 11,
     "metadata": {},
     "output_type": "execute_result"
    }
   ],
   "source": [
    "cde_test"
   ]
  },
  {
   "cell_type": "code",
   "execution_count": null,
   "id": "22613c07-bbad-47f4-ae31-51b0ac557f3f",
   "metadata": {},
   "outputs": [],
   "source": []
  }
 ],
 "metadata": {
  "kernelspec": {
   "display_name": "Python 3 (ipykernel)",
   "language": "python",
   "name": "python3"
  },
  "language_info": {
   "codemirror_mode": {
    "name": "ipython",
    "version": 3
   },
   "file_extension": ".py",
   "mimetype": "text/x-python",
   "name": "python",
   "nbconvert_exporter": "python",
   "pygments_lexer": "ipython3",
   "version": "3.10.10"
  }
 },
 "nbformat": 4,
 "nbformat_minor": 5
}
