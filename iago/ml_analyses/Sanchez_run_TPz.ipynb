{
 "cells": [
  {
   "cell_type": "markdown",
   "id": "8da9a1fd-f0d5-47f7-9ad9-c4740afe3701",
   "metadata": {
    "tags": []
   },
   "source": [
    "# Sanchéz sample with TPZ\n",
    "<span style=\"font-size: 20px;\"> Author: Iago Lopes</span>\n",
    "\n",
    "<span style=\"font-size: 16px;\">The notebook's objective is trying to replicate the run made in Sanchéz et al 2014 with MAIN sample using TPz.\n",
    "\n",
    "</span>"
   ]
  },
  {
   "cell_type": "markdown",
   "id": "95575820-0e7c-40ff-9b87-505954dbadd4",
   "metadata": {
    "tags": []
   },
   "source": [
    "### Importing packages"
   ]
  },
  {
   "cell_type": "code",
   "execution_count": 1,
   "id": "3b3ebbcc-5dc3-474a-9cd4-25819a6746be",
   "metadata": {
    "tags": []
   },
   "outputs": [],
   "source": [
    "from dblinea import DBBase\n",
    "import numpy as np\n",
    "import matplotlib.pyplot as plt\n",
    "import pandas as pd\n",
    "from tqdm import tqdm\n",
    "import os\n",
    "from astroquery.vizier import Vizier\n",
    "import astropy.coordinates as coord\n",
    "import astropy.units as u\n",
    "from astropy.coordinates import SkyCoord\n",
    "from astropy.io import ascii\n",
    "from scipy.stats import gaussian_kde\n",
    "from matplotlib.ticker import FormatStrFormatter"
   ]
  },
  {
   "cell_type": "code",
   "execution_count": 2,
   "id": "f1889101-c7b2-4d3d-bee2-08ec7ac44a27",
   "metadata": {
    "tags": []
   },
   "outputs": [],
   "source": [
    "import warnings\n",
    "warnings.filterwarnings(\"ignore\")"
   ]
  },
  {
   "cell_type": "code",
   "execution_count": 3,
   "id": "653de974-a256-46e9-85c8-129293de65ad",
   "metadata": {},
   "outputs": [],
   "source": [
    "db = DBBase()"
   ]
  },
  {
   "cell_type": "markdown",
   "id": "9e7370f0-03b1-4c99-81f7-505c72bc2b52",
   "metadata": {
    "jp-MarkdownHeadingCollapsed": true,
    "tags": []
   },
   "source": [
    "# Catalog selection\n",
    "<span style=\"font-size: 20px;\">In this section I try to get all the data used in paper, except for the COSMOS field and the DEEP sample because the data isn't in LIneA server. </span>"
   ]
  },
  {
   "cell_type": "markdown",
   "id": "be780088-8aca-49ac-a424-aaba9ac210b1",
   "metadata": {
    "jp-MarkdownHeadingCollapsed": true,
    "tags": []
   },
   "source": [
    "## Selecting SDSS/BOSS cross-matched"
   ]
  },
  {
   "cell_type": "code",
   "execution_count": 4,
   "id": "217c483e-4627-4569-b4a8-d6c92c87696c",
   "metadata": {
    "tags": []
   },
   "outputs": [],
   "source": [
    "sdss = pd.read_csv('/home/iago.dias/TPz_notebooks/iago/ml_analyses/Sanchez_Data/SDSS-BOSS.csv')"
   ]
  },
  {
   "cell_type": "code",
   "execution_count": 5,
   "id": "fc85c1f1-623c-4adc-a217-1b3ece16fd2f",
   "metadata": {
    "tags": []
   },
   "outputs": [],
   "source": [
    "sdss = sdss[sdss['f_zsp']<40]"
   ]
  },
  {
   "cell_type": "code",
   "execution_count": 6,
   "id": "4f88e9dd-769a-4a97-a89e-0d4c91e459d6",
   "metadata": {
    "tags": []
   },
   "outputs": [],
   "source": [
    "sdss = sdss[['RA_ICRS','DE_ICRS','zsp']]\n",
    "sdss.columns = ['ra','dec','z']"
   ]
  },
  {
   "cell_type": "code",
   "execution_count": 7,
   "id": "73b93124-2758-40bb-83cf-3940799da3a0",
   "metadata": {
    "tags": []
   },
   "outputs": [],
   "source": [
    "sdss['survey']='SDSS/BOSS'"
   ]
  },
  {
   "cell_type": "code",
   "execution_count": 8,
   "id": "713daf9c-d4db-412b-9c7d-e4657eb42f5c",
   "metadata": {
    "tags": []
   },
   "outputs": [],
   "source": [
    "sdss = sdss[(sdss['ra']>35) & (sdss['ra']<37.5) & (sdss['dec']<-3.5)& (sdss['dec']>-5.7)] "
   ]
  },
  {
   "cell_type": "code",
   "execution_count": 9,
   "id": "6e2691a0-3589-4645-b9bb-860e17bacc29",
   "metadata": {
    "tags": []
   },
   "outputs": [
    {
     "data": {
      "text/html": [
       "<div>\n",
       "<style scoped>\n",
       "    .dataframe tbody tr th:only-of-type {\n",
       "        vertical-align: middle;\n",
       "    }\n",
       "\n",
       "    .dataframe tbody tr th {\n",
       "        vertical-align: top;\n",
       "    }\n",
       "\n",
       "    .dataframe thead th {\n",
       "        text-align: right;\n",
       "    }\n",
       "</style>\n",
       "<table border=\"1\" class=\"dataframe\">\n",
       "  <thead>\n",
       "    <tr style=\"text-align: right;\">\n",
       "      <th></th>\n",
       "      <th>ra</th>\n",
       "      <th>dec</th>\n",
       "      <th>z</th>\n",
       "      <th>survey</th>\n",
       "    </tr>\n",
       "  </thead>\n",
       "  <tbody>\n",
       "    <tr>\n",
       "      <th>229</th>\n",
       "      <td>37.255031</td>\n",
       "      <td>-5.688772</td>\n",
       "      <td>0.95767</td>\n",
       "      <td>SDSS/BOSS</td>\n",
       "    </tr>\n",
       "    <tr>\n",
       "      <th>237</th>\n",
       "      <td>37.290464</td>\n",
       "      <td>-5.670331</td>\n",
       "      <td>0.33875</td>\n",
       "      <td>SDSS/BOSS</td>\n",
       "    </tr>\n",
       "    <tr>\n",
       "      <th>238</th>\n",
       "      <td>37.437218</td>\n",
       "      <td>-5.675375</td>\n",
       "      <td>0.48237</td>\n",
       "      <td>SDSS/BOSS</td>\n",
       "    </tr>\n",
       "    <tr>\n",
       "      <th>239</th>\n",
       "      <td>37.413628</td>\n",
       "      <td>-5.640567</td>\n",
       "      <td>0.08701</td>\n",
       "      <td>SDSS/BOSS</td>\n",
       "    </tr>\n",
       "    <tr>\n",
       "      <th>240</th>\n",
       "      <td>37.390754</td>\n",
       "      <td>-5.624758</td>\n",
       "      <td>0.98790</td>\n",
       "      <td>SDSS/BOSS</td>\n",
       "    </tr>\n",
       "    <tr>\n",
       "      <th>...</th>\n",
       "      <td>...</td>\n",
       "      <td>...</td>\n",
       "      <td>...</td>\n",
       "      <td>...</td>\n",
       "    </tr>\n",
       "    <tr>\n",
       "      <th>1712</th>\n",
       "      <td>35.285733</td>\n",
       "      <td>-3.539826</td>\n",
       "      <td>0.57483</td>\n",
       "      <td>SDSS/BOSS</td>\n",
       "    </tr>\n",
       "    <tr>\n",
       "      <th>1713</th>\n",
       "      <td>35.278646</td>\n",
       "      <td>-3.524045</td>\n",
       "      <td>0.55166</td>\n",
       "      <td>SDSS/BOSS</td>\n",
       "    </tr>\n",
       "    <tr>\n",
       "      <th>1715</th>\n",
       "      <td>35.510182</td>\n",
       "      <td>-3.567297</td>\n",
       "      <td>0.43385</td>\n",
       "      <td>SDSS/BOSS</td>\n",
       "    </tr>\n",
       "    <tr>\n",
       "      <th>1724</th>\n",
       "      <td>35.814534</td>\n",
       "      <td>-3.506449</td>\n",
       "      <td>0.61090</td>\n",
       "      <td>SDSS/BOSS</td>\n",
       "    </tr>\n",
       "    <tr>\n",
       "      <th>1880</th>\n",
       "      <td>35.131484</td>\n",
       "      <td>-3.598156</td>\n",
       "      <td>0.57698</td>\n",
       "      <td>SDSS/BOSS</td>\n",
       "    </tr>\n",
       "  </tbody>\n",
       "</table>\n",
       "<p>854 rows × 4 columns</p>\n",
       "</div>"
      ],
      "text/plain": [
       "             ra       dec        z     survey\n",
       "229   37.255031 -5.688772  0.95767  SDSS/BOSS\n",
       "237   37.290464 -5.670331  0.33875  SDSS/BOSS\n",
       "238   37.437218 -5.675375  0.48237  SDSS/BOSS\n",
       "239   37.413628 -5.640567  0.08701  SDSS/BOSS\n",
       "240   37.390754 -5.624758  0.98790  SDSS/BOSS\n",
       "...         ...       ...      ...        ...\n",
       "1712  35.285733 -3.539826  0.57483  SDSS/BOSS\n",
       "1713  35.278646 -3.524045  0.55166  SDSS/BOSS\n",
       "1715  35.510182 -3.567297  0.43385  SDSS/BOSS\n",
       "1724  35.814534 -3.506449  0.61090  SDSS/BOSS\n",
       "1880  35.131484 -3.598156  0.57698  SDSS/BOSS\n",
       "\n",
       "[854 rows x 4 columns]"
      ]
     },
     "execution_count": 9,
     "metadata": {},
     "output_type": "execute_result"
    }
   ],
   "source": [
    "sdss"
   ]
  },
  {
   "cell_type": "code",
   "execution_count": 10,
   "id": "c60001e7-83ea-44c8-82c0-d5b46fef5107",
   "metadata": {
    "tags": []
   },
   "outputs": [],
   "source": [
    "xlim = [35, 37.6]\n",
    "ylim = [-5.7, -3.5]\n",
    "l = 750000\n",
    "query = f\"SELECT alphawin_j2000, deltawin_j2000,ra,dec, extended_class_coadd, mag_auto_g, mag_auto_r,mag_auto_i,mag_auto_z,mag_auto_y, magerr_auto_g, magerr_auto_r, magerr_auto_i, magerr_auto_z, magerr_auto_y FROM des_dr2.coadd_objects WHERE q3c_poly_query(ra, dec, ARRAY[{xlim[0]}, {ylim[1]}, {xlim[0]}, {ylim[0]}, {xlim[1]}, {ylim[0]}, {xlim[1]}, {ylim[1]}]) AND extended_class_coadd >= 2 AND mag_auto_g<90 AND mag_auto_r<90 AND mag_auto_i<90 AND mag_auto_z<90 AND mag_auto_y<90 limit {l}\"\n",
    "\n",
    "\n",
    "\n"
   ]
  },
  {
   "cell_type": "code",
   "execution_count": null,
   "id": "0b9efc60-b6e9-4bd1-b8d1-f5c8038c528c",
   "metadata": {
    "tags": []
   },
   "outputs": [],
   "source": [
    "%%time\n",
    "df_phot = db.fetchall_df(query)\n",
    "df_phot"
   ]
  },
  {
   "cell_type": "code",
   "execution_count": null,
   "id": "14b8928a-e1af-4be2-94d2-c2b459dee833",
   "metadata": {
    "tags": []
   },
   "outputs": [],
   "source": [
    "%%time\n",
    "coords1 = SkyCoord(ra=df_phot['ra'], dec=df_phot['dec'], unit=(u.deg, u.deg))\n",
    "coords2 = SkyCoord(ra=sdss['ra'], dec=sdss['dec'], unit=(u.deg, u.deg))\n"
   ]
  },
  {
   "cell_type": "code",
   "execution_count": null,
   "id": "4fd97597-8913-471e-a44a-514bcf268139",
   "metadata": {
    "tags": []
   },
   "outputs": [],
   "source": [
    "# Defina um raio de busca (por exemplo, 1 arcsec)\n",
    "radius = 1 * u.arcsec\n",
    "\n",
    "# Realize o cruzamento entre os catálogos\n",
    "# use o método search_around_sky para encontrar objetos coincidentes em um raio\n",
    "idx1, idx2, d2d, _ = coords1.search_around_sky(coords2, radius)\n",
    "\n",
    "# idx1 e idx2 contêm os índices dos objetos correspondentes em catalog1 e catalog2\n",
    "# d2d contém as distâncias angulares entre os objetos correspondentes em arcsec\n",
    "\n",
    "# Agora você pode usar os índices para acessar os objetos correspondentes em seus catálogos originais\n",
    "sdss_matched = df_phot.iloc[idx2]\n",
    "zspec = sdss.iloc[idx1]['z'].values\n",
    "\n",
    "sdss_matched['z'] = zspec\n",
    "\n"
   ]
  },
  {
   "cell_type": "code",
   "execution_count": null,
   "id": "3a1fd914-d4bb-4148-849f-6cf32c46a7b3",
   "metadata": {
    "tags": []
   },
   "outputs": [],
   "source": [
    "sdss_matched['survey']='SDSS/BOSS'"
   ]
  },
  {
   "cell_type": "code",
   "execution_count": null,
   "id": "53f6ac88-ff98-4a6c-8512-32faecdf23a6",
   "metadata": {
    "tags": []
   },
   "outputs": [],
   "source": [
    "sdss_matched"
   ]
  },
  {
   "cell_type": "markdown",
   "id": "d3402226-96c3-4daf-8b16-65e0f7c5cb94",
   "metadata": {
    "tags": []
   },
   "source": [
    "## Selecting 2dFRGS cross-matched"
   ]
  },
  {
   "cell_type": "code",
   "execution_count": null,
   "id": "549222ab-de33-4b69-8f61-14e6786f81a3",
   "metadata": {
    "tags": []
   },
   "outputs": [],
   "source": [
    "two_d = pd.read_csv('/home/iago.dias/TPz_notebooks/iago/ml_analyses/Sanchez_Data/2dfgrs.csv')"
   ]
  },
  {
   "cell_type": "code",
   "execution_count": null,
   "id": "a44557f6-28a1-41e0-9206-43ffeaeaedf5",
   "metadata": {
    "tags": []
   },
   "outputs": [],
   "source": [
    "two_d = two_d[two_d['q_z']>=3]"
   ]
  },
  {
   "cell_type": "code",
   "execution_count": null,
   "id": "40aeb2f5-b6ac-4789-b7fa-cade6c54c524",
   "metadata": {
    "tags": []
   },
   "outputs": [],
   "source": [
    "#two_d = two_d[two_d['SNR']>=10] tirar???"
   ]
  },
  {
   "cell_type": "code",
   "execution_count": null,
   "id": "0b00451e-4b9b-49c8-9991-3cbeb127b2c7",
   "metadata": {
    "tags": []
   },
   "outputs": [],
   "source": [
    "two_d = two_d[['RAJ2000','DEJ2000','z']]\n",
    "two_d.columns=['ra','dec','z']"
   ]
  },
  {
   "cell_type": "code",
   "execution_count": null,
   "id": "240ea1d0-4de1-4c18-b6d6-a4c5acc7b7d0",
   "metadata": {},
   "outputs": [],
   "source": [
    "two_d['survey']='2dFRGS'"
   ]
  },
  {
   "cell_type": "code",
   "execution_count": null,
   "id": "a5973615-8f34-4850-a430-85e00a7a1e3c",
   "metadata": {
    "tags": []
   },
   "outputs": [],
   "source": [
    "two_d = two_d[(two_d['ra']>51.5) & (two_d['ra']<53.9) & (two_d['dec']<-26.9)& (two_d['dec']>-29.2)] "
   ]
  },
  {
   "cell_type": "code",
   "execution_count": null,
   "id": "2ad71631-6a2b-4b7a-a710-21c756195af2",
   "metadata": {
    "tags": []
   },
   "outputs": [],
   "source": [
    "two_d"
   ]
  },
  {
   "cell_type": "code",
   "execution_count": null,
   "id": "6ae8c0e3-71f2-4864-9aa9-2aa2a171edbe",
   "metadata": {
    "tags": []
   },
   "outputs": [],
   "source": [
    "xlim = [51.5, 53.9]\n",
    "ylim = [-29.2, -26.9]\n",
    "l = 750000\n",
    "query = f\"SELECT alphawin_j2000, deltawin_j2000,ra,dec, extended_class_coadd, mag_auto_g, mag_auto_r,mag_auto_i,mag_auto_z,mag_auto_y, magerr_auto_g, magerr_auto_r, magerr_auto_i, magerr_auto_z, magerr_auto_y FROM des_dr2.coadd_objects WHERE q3c_poly_query(ra, dec, ARRAY[{xlim[0]}, {ylim[1]}, {xlim[0]}, {ylim[0]}, {xlim[1]}, {ylim[0]}, {xlim[1]}, {ylim[1]}]) AND extended_class_coadd >= 2 AND mag_auto_g<90 AND mag_auto_r<90 AND mag_auto_i<90 AND mag_auto_z<90 AND mag_auto_y<90 limit {l}\"\n",
    "\n",
    "\n",
    "\n",
    "\n",
    "'''\n",
    "xlim = [51.5, 53.9]\n",
    "ylim = [-29.2, -26.9]\n",
    "l = 750000\n",
    "query = f\"SELECT alphawin_j2000, deltawin_j2000,ra,dec, extended_class_coadd, mag_auto_g, mag_auto_r,mag_auto_i,mag_auto_z,mag_auto_y, magerr_auto_g, magerr_auto_r, magerr_auto_i, magerr_auto_z, magerr_auto_y FROM des_dr2.coadd_objects WHERE q3c_poly_query(ra, dec, ARRAY[{xlim[0]}, {ylim[1]}, {xlim[0]}, {ylim[0]}, {xlim[1]}, {ylim[0]}, {xlim[1]}, {ylim[1]}]) AND extended_class_coadd >= 2 AND magerr_auto_g<0.103 AND magerr_auto_r<0.103 AND magerr_auto_i<0.103 AND magerr_auto_z<0.103 AND magerr_auto_y<0.103 limit {l}\"\n",
    "\n",
    "'''\n",
    "\n"
   ]
  },
  {
   "cell_type": "code",
   "execution_count": null,
   "id": "f6438b29-0cf8-4ea1-b314-41f41e571c03",
   "metadata": {
    "tags": []
   },
   "outputs": [],
   "source": [
    "%%time\n",
    "df_phot_2 = db.fetchall_df(query)\n",
    "df_phot_2"
   ]
  },
  {
   "cell_type": "code",
   "execution_count": null,
   "id": "3171cb6e-2405-4ba5-af69-c58ae2f26772",
   "metadata": {
    "tags": []
   },
   "outputs": [],
   "source": [
    "%%time\n",
    "coords1 = SkyCoord(ra=df_phot_2['ra'], dec=df_phot_2['dec'], unit=(u.deg, u.deg))\n",
    "coords2 = SkyCoord(ra=two_d['ra'], dec=two_d['dec'], unit=(u.deg, u.deg))\n"
   ]
  },
  {
   "cell_type": "code",
   "execution_count": null,
   "id": "a5692134-85f9-4b99-90c3-0de790ac0181",
   "metadata": {
    "tags": []
   },
   "outputs": [],
   "source": [
    "# Defina um raio de busca (por exemplo, 1 arcsec)\n",
    "radius = 1 * u.arcsec\n",
    "\n",
    "# Realize o cruzamento entre os catálogos\n",
    "# use o método search_around_sky para encontrar objetos coincidentes em um raio\n",
    "idx1, idx2, d2d, _ = coords1.search_around_sky(coords2, radius)\n",
    "\n",
    "# idx1 e idx2 contêm os índices dos objetos correspondentes em catalog1 e catalog2\n",
    "# d2d contém as distâncias angulares entre os objetos correspondentes em arcsec\n",
    "\n",
    "# Agora você pode usar os índices para acessar os objetos correspondentes em seus catálogos originais\n",
    "two_d_matched = df_phot_2.iloc[idx2]\n",
    "zspec = two_d.iloc[idx1]['z'].values\n",
    "\n",
    "two_d_matched['z'] = zspec\n"
   ]
  },
  {
   "cell_type": "code",
   "execution_count": null,
   "id": "59069196-26f5-4b57-973b-6f61658f6b4b",
   "metadata": {
    "tags": []
   },
   "outputs": [],
   "source": [
    "two_d_matched['survey']='2dFRGS'"
   ]
  },
  {
   "cell_type": "code",
   "execution_count": null,
   "id": "33b3d3c0-5d30-4ba8-a297-4d99bf32a283",
   "metadata": {
    "tags": []
   },
   "outputs": [],
   "source": [
    "two_d_matched"
   ]
  },
  {
   "cell_type": "markdown",
   "id": "8a0d2719-1fd9-4b87-b7fb-b886eeba22ae",
   "metadata": {
    "tags": []
   },
   "source": [
    "## Selecting OzDES cross-match"
   ]
  },
  {
   "cell_type": "code",
   "execution_count": null,
   "id": "2c0290e1-5756-4154-beb5-86c5116410a0",
   "metadata": {
    "tags": []
   },
   "outputs": [],
   "source": [
    "ozdes = pd.read_csv('/home/iago.dias/TPz_notebooks/iago/ml_analyses/Sanchez_Data/OzDES.csv')"
   ]
  },
  {
   "cell_type": "code",
   "execution_count": null,
   "id": "023d7282-f9b3-4d67-8462-27715d56b58a",
   "metadata": {
    "tags": []
   },
   "outputs": [],
   "source": [
    "ozdes = ozdes[ozdes['types']=='Photo-z'] "
   ]
  },
  {
   "cell_type": "code",
   "execution_count": null,
   "id": "2089e82e-c1df-4bce-9586-a76d547ff42c",
   "metadata": {
    "tags": []
   },
   "outputs": [],
   "source": [
    "ozdes = ozdes[['RAJ2000','DEJ2000','z']]\n",
    "ozdes.columns = ['ra','dec','z']"
   ]
  },
  {
   "cell_type": "code",
   "execution_count": null,
   "id": "1d9b17ba-b0d8-4656-b6a2-c4bfa8ad5872",
   "metadata": {
    "tags": []
   },
   "outputs": [],
   "source": [
    "ozdes['survey']='OzDES'"
   ]
  },
  {
   "cell_type": "code",
   "execution_count": null,
   "id": "e14c87cb-dd23-4f19-9098-f22a0a122f28",
   "metadata": {
    "tags": []
   },
   "outputs": [],
   "source": [
    "ozdes = ozdes[(ozdes['ra']>51.5) & (ozdes['ra']<53.9) & (ozdes['dec']<-26.9)& (ozdes['dec']>-29.2)] "
   ]
  },
  {
   "cell_type": "code",
   "execution_count": null,
   "id": "d37a936c-3a11-4d36-b91c-05f4b51d53af",
   "metadata": {
    "tags": []
   },
   "outputs": [],
   "source": [
    "ozdes\n"
   ]
  },
  {
   "cell_type": "code",
   "execution_count": null,
   "id": "b8ad3b71-c1d9-414d-9855-ab103ede7874",
   "metadata": {
    "tags": []
   },
   "outputs": [],
   "source": [
    "%%time\n",
    "coords1 = SkyCoord(ra=df_phot_2['ra'], dec=df_phot_2['dec'], unit=(u.deg, u.deg))\n",
    "coords2 = SkyCoord(ra=ozdes['ra'], dec=ozdes['dec'], unit=(u.deg, u.deg))\n"
   ]
  },
  {
   "cell_type": "code",
   "execution_count": null,
   "id": "7bc7d62a-7af7-4c0f-8543-72c266f5eafb",
   "metadata": {
    "tags": []
   },
   "outputs": [],
   "source": [
    "# Defina um raio de busca (por exemplo, 1 arcsec)\n",
    "radius = 1 * u.arcsec\n",
    "\n",
    "# Realize o cruzamento entre os catálogos\n",
    "# use o método search_around_sky para encontrar objetos coincidentes em um raio\n",
    "idx1, idx2, d2d, _ = coords1.search_around_sky(coords2, radius)\n",
    "\n",
    "# idx1 e idx2 contêm os índices dos objetos correspondentes em catalog1 e catalog2\n",
    "# d2d contém as distâncias angulares entre os objetos correspondentes em arcsec\n",
    "\n",
    "# Agora você pode usar os índices para acessar os objetos correspondentes em seus catálogos originais\n",
    "ozdes_matched = df_phot_2.iloc[idx2]\n",
    "zspec = ozdes.iloc[idx1]['z'].values\n",
    "\n",
    "ozdes_matched['z'] = zspec\n"
   ]
  },
  {
   "cell_type": "code",
   "execution_count": null,
   "id": "65cbc4fc-abd0-4a84-a7ed-8c4c32b9e81d",
   "metadata": {
    "tags": []
   },
   "outputs": [],
   "source": [
    "ozdes_matched['survey']='OzDES'"
   ]
  },
  {
   "cell_type": "code",
   "execution_count": null,
   "id": "da63d886-d6c3-48f7-831d-628f21473b3d",
   "metadata": {
    "tags": []
   },
   "outputs": [],
   "source": [
    "ozdes_matched"
   ]
  },
  {
   "cell_type": "markdown",
   "id": "41ebb0e9-8b8c-4895-87cd-10c0a7ebb807",
   "metadata": {
    "tags": []
   },
   "source": [
    "## Selecting VVDS-DEEP for SN-C3 field and cross-match"
   ]
  },
  {
   "cell_type": "code",
   "execution_count": null,
   "id": "2426ac5c-e274-4fa5-91ac-fcf56a5af3d3",
   "metadata": {
    "tags": []
   },
   "outputs": [],
   "source": [
    "vvds_snc3 = pd.read_csv('/home/iago.dias/TPz_notebooks/iago/ml_analyses/Sanchez_Data/VVDS-DEEP-SN-C3.csv')"
   ]
  },
  {
   "cell_type": "code",
   "execution_count": null,
   "id": "ee992832-6d75-44c2-969b-5d0437a66f10",
   "metadata": {
    "tags": []
   },
   "outputs": [],
   "source": [
    "vvds_snc3 = vvds_snc3[(vvds_snc3['f_z']==3) | (vvds_snc3['f_z']==4)]"
   ]
  },
  {
   "cell_type": "code",
   "execution_count": null,
   "id": "1fe52b1a-3a68-4126-b17f-0e914f17972e",
   "metadata": {
    "tags": []
   },
   "outputs": [],
   "source": [
    "vvds_snc3 = vvds_snc3[['RAJ2000','DEJ2000','z']]\n",
    "vvds_snc3.columns = ['ra','dec','z']\n",
    "vvds_snc3['survey']='VVDS-DEEP_SNC3'"
   ]
  },
  {
   "cell_type": "code",
   "execution_count": null,
   "id": "4dd81eaa-3ba5-431d-8904-dfe181017dee",
   "metadata": {
    "tags": []
   },
   "outputs": [],
   "source": [
    "vvds_snc3 = vvds_snc3[(vvds_snc3['ra']>51.5) & (vvds_snc3['ra']<53.9) & (vvds_snc3['dec']<-26.9)& (vvds_snc3['dec']>-29.2)] "
   ]
  },
  {
   "cell_type": "code",
   "execution_count": null,
   "id": "83e966f6-da39-496c-b53a-49d0d454db0d",
   "metadata": {
    "tags": []
   },
   "outputs": [],
   "source": [
    "%%time\n",
    "coords1 = SkyCoord(ra=df_phot_2['ra'], dec=df_phot_2['dec'], unit=(u.deg, u.deg))\n",
    "coords2 = SkyCoord(ra=vvds_snc3['ra'], dec=vvds_snc3['dec'], unit=(u.deg, u.deg))\n"
   ]
  },
  {
   "cell_type": "code",
   "execution_count": null,
   "id": "a0f6bb36-9c01-4426-918e-b5f3929d90cd",
   "metadata": {
    "tags": []
   },
   "outputs": [],
   "source": [
    "# Defina um raio de busca (por exemplo, 1 arcsec)\n",
    "radius = 1 * u.arcsec\n",
    "\n",
    "# Realize o cruzamento entre os catálogos\n",
    "# use o método search_around_sky para encontrar objetos coincidentes em um raio\n",
    "idx1, idx2, d2d, _ = coords1.search_around_sky(coords2, radius)\n",
    "\n",
    "# idx1 e idx2 contêm os índices dos objetos correspondentes em catalog1 e catalog2\n",
    "# d2d contém as distâncias angulares entre os objetos correspondentes em arcsec\n",
    "\n",
    "# Agora você pode usar os índices para acessar os objetos correspondentes em seus catálogos originais\n",
    "vvds_snc3_matched = df_phot_2.iloc[idx2]\n",
    "zspec = vvds_snc3.iloc[idx1]['z'].values\n",
    "\n",
    "vvds_snc3_matched['z'] = zspec\n"
   ]
  },
  {
   "cell_type": "code",
   "execution_count": null,
   "id": "f36751ba-2b79-46cc-8302-dd844b764736",
   "metadata": {
    "tags": []
   },
   "outputs": [],
   "source": [
    "vvds_snc3_matched"
   ]
  },
  {
   "cell_type": "code",
   "execution_count": null,
   "id": "9eba67ee-1f4d-4434-ab3d-62025370c975",
   "metadata": {
    "tags": []
   },
   "outputs": [],
   "source": [
    "vvds_snx3 = pd.read_csv('/home/iago.dias/TPz_notebooks/iago/ml_analyses/Sanchez_Data/VVDS-DEEP-SN-X3.csv')"
   ]
  },
  {
   "cell_type": "code",
   "execution_count": null,
   "id": "e98cd262-1289-4776-96b5-91dd105efe45",
   "metadata": {
    "tags": []
   },
   "outputs": [],
   "source": [
    "vvds_snx3 = vvds_snx3[(vvds_snx3['f_z']==3) | (vvds_snx3['f_z']==4)]"
   ]
  },
  {
   "cell_type": "code",
   "execution_count": null,
   "id": "3a10de69-14cb-48f1-bee9-d098a166cfb3",
   "metadata": {
    "tags": []
   },
   "outputs": [],
   "source": [
    "vvds_snx3 = vvds_snx3[['RAJ2000','DEJ2000','z']]\n",
    "vvds_snx3.columns = ['ra','dec','z']\n",
    "vvds_snx3['survey']='VVDS-DEEP_SNX3'"
   ]
  },
  {
   "cell_type": "code",
   "execution_count": null,
   "id": "78fc421b-ca49-4ac4-b872-4a1353f65850",
   "metadata": {
    "tags": []
   },
   "outputs": [],
   "source": [
    "vvds_snx3 = vvds_snx3[(vvds_snx3['ra']>35.4) & (vvds_snx3['ra']<37.9) & (vvds_snx3['dec']<-3.44)& (vvds_snx3['dec']>-5.73)] "
   ]
  },
  {
   "cell_type": "code",
   "execution_count": null,
   "id": "185e728f-df0c-404c-b05c-6fa39d218e53",
   "metadata": {
    "tags": []
   },
   "outputs": [],
   "source": [
    "%%time\n",
    "coords1 = SkyCoord(ra=df_phot['ra'], dec=df_phot['dec'], unit=(u.deg, u.deg))\n",
    "coords2 = SkyCoord(ra=vvds_snx3['ra'], dec=vvds_snx3['dec'], unit=(u.deg, u.deg))\n"
   ]
  },
  {
   "cell_type": "code",
   "execution_count": null,
   "id": "6b93ebf7-cbaa-4b88-8b56-d8c623456da9",
   "metadata": {
    "tags": []
   },
   "outputs": [],
   "source": [
    "# Defina um raio de busca (por exemplo, 1 arcsec)\n",
    "radius = 1 * u.arcsec\n",
    "\n",
    "# Realize o cruzamento entre os catálogos\n",
    "# use o método search_around_sky para encontrar objetos coincidentes em um raio\n",
    "idx1, idx2, d2d, _ = coords1.search_around_sky(coords2, radius)\n",
    "\n",
    "# idx1 e idx2 contêm os índices dos objetos correspondentes em catalog1 e catalog2\n",
    "# d2d contém as distâncias angulares entre os objetos correspondentes em arcsec\n",
    "\n",
    "# Agora você pode usar os índices para acessar os objetos correspondentes em seus catálogos originais\n",
    "vvds_snx3_matched = df_phot.iloc[idx2]\n",
    "zspec = vvds_snx3.iloc[idx1]['z'].values\n",
    "\n",
    "vvds_snx3_matched['z'] = zspec\n"
   ]
  },
  {
   "cell_type": "code",
   "execution_count": null,
   "id": "f5992bab-37bf-4194-8503-f61c027fc462",
   "metadata": {
    "tags": []
   },
   "outputs": [],
   "source": [
    "vvds_snx3_matched['survey']='VVDS-DEEP_SNX3'"
   ]
  },
  {
   "cell_type": "code",
   "execution_count": null,
   "id": "93c5e0ba-90ea-414a-b3f8-00e8ccba61dd",
   "metadata": {
    "tags": []
   },
   "outputs": [],
   "source": [
    "vvds_snx3_matched"
   ]
  },
  {
   "cell_type": "markdown",
   "id": "591a7ae0-36c4-4392-93f7-98bba0557c5b",
   "metadata": {
    "tags": []
   },
   "source": [
    "## Selecting ACES cross-matched"
   ]
  },
  {
   "cell_type": "markdown",
   "id": "351437e1-716f-46fa-977f-44bea3414b8c",
   "metadata": {},
   "source": [
    "```sql\n",
    "SELECT * \n",
    "FROM des_dr2.public_pz_training_set \n",
    "WHERE survey = 'ACES'\n",
    "```"
   ]
  },
  {
   "cell_type": "code",
   "execution_count": null,
   "id": "aab414b7-2ff8-4ae1-b13f-014d8eec8882",
   "metadata": {
    "tags": []
   },
   "outputs": [],
   "source": [
    "\n",
    "query_matched = \"SELECT * FROM des_dr2.public_pz_training_set WHERE survey = 'ACES'\"\n",
    "\n",
    "\n"
   ]
  },
  {
   "cell_type": "code",
   "execution_count": null,
   "id": "ba207dd5-8be1-4d73-a60b-ff57d2e36efd",
   "metadata": {
    "tags": []
   },
   "outputs": [],
   "source": [
    "df_matched = db.fetchall_df(query_matched)"
   ]
  },
  {
   "cell_type": "code",
   "execution_count": 57,
   "id": "723c3325-91f8-4ba9-8e67-6ad7e0b8b0ed",
   "metadata": {
    "tags": []
   },
   "outputs": [],
   "source": [
    "\n",
    "\n",
    "df_matched = df_matched[(df_matched['mag_auto_g_dered']<90) & (df_matched['mag_auto_r_dered']<90) &(df_matched['mag_auto_i_dered']<90) &(df_matched['mag_auto_z_dered']<90) &(df_matched['mag_auto_y_dered']<90)]\n",
    "\n",
    "\n"
   ]
  },
  {
   "cell_type": "code",
   "execution_count": 58,
   "id": "ee2a5854-c8b9-4128-91ae-891bdb849f5e",
   "metadata": {
    "tags": []
   },
   "outputs": [],
   "source": [
    "\n",
    "\n",
    "#df_matched = df_matched[(df_matched['magerr_auto_g']<0.103) & (df_matched['magerr_auto_r']<0.103) &(df_matched['magerr_auto_i']<0.103) &(df_matched['magerr_auto_z']<0.103) &(df_matched['magerr_auto_y']<0.103)]\n",
    "\n",
    "\n"
   ]
  },
  {
   "cell_type": "code",
   "execution_count": 59,
   "id": "166ea8f4-89e0-4c4d-9972-0d7b953e17e6",
   "metadata": {
    "tags": []
   },
   "outputs": [],
   "source": [
    "df_matched.columns=['coadd_object_id','ra','dec','z','err_z','flag_des','survey','flag','mag_auto_g','mag_auto_r','mag_auto_i','mag_auto_z','mag_auto_y','magerr_auto_g','magerr_auto_r','magerr_auto_i','magerr_auto_z','magerr_auto_y']"
   ]
  },
  {
   "cell_type": "code",
   "execution_count": 60,
   "id": "0be5c58b-084f-48f7-9043-54adbe160d79",
   "metadata": {
    "tags": []
   },
   "outputs": [],
   "source": [
    "\n",
    "aces_matched = df_matched[df_matched['survey']=='ACES']"
   ]
  },
  {
   "cell_type": "markdown",
   "id": "f21659b7-cc0d-4f92-9eb6-614cc9f25e49",
   "metadata": {
    "tags": []
   },
   "source": [
    "# Preparing and saving data"
   ]
  },
  {
   "cell_type": "markdown",
   "id": "bd7ee9f8-7b6a-4179-bc7e-009417dfdd10",
   "metadata": {
    "jp-MarkdownHeadingCollapsed": true,
    "tags": []
   },
   "source": [
    "## Combining all catalogs as in paper \n"
   ]
  },
  {
   "cell_type": "markdown",
   "id": "3e0def6f-aa26-4cf4-ae33-104ff0a4e758",
   "metadata": {
    "jp-MarkdownHeadingCollapsed": true,
    "tags": []
   },
   "source": [
    "### Main training sample"
   ]
  },
  {
   "cell_type": "code",
   "execution_count": 143,
   "id": "545550db-c1a0-4696-8651-d611d1a70386",
   "metadata": {
    "tags": []
   },
   "outputs": [],
   "source": [
    "random = 7\n",
    "training_1 = vvds_snx3_matched.sample(int(len(vvds_snx3_matched)/2),random_state=random)\n",
    "training_2 = sdss_matched.sample(int(len(sdss_matched)/2),random_state=random) \n",
    "training_3 = aces_matched.sample(int(len(aces_matched)/2),random_state=random)\n",
    "training_4 = two_d_matched.sample(int(len(two_d_matched)/2),random_state=random)\n",
    "training_5 = ozdes_matched.sample(int(len(ozdes_matched)/2),random_state=random)"
   ]
  },
  {
   "cell_type": "code",
   "execution_count": 144,
   "id": "990a01a1-acdc-4dd1-88e3-370059da8903",
   "metadata": {
    "tags": []
   },
   "outputs": [
    {
     "name": "stdout",
     "output_type": "stream",
     "text": [
      "4302\n",
      "739\n",
      "3913\n",
      "453\n",
      "744\n"
     ]
    }
   ],
   "source": [
    "print(len(vvds_snx3_matched))\n",
    "print(len(sdss_matched))\n",
    "print(len(aces_matched))\n",
    "print(len(two_d_matched))\n",
    "print(len(ozdes_matched))"
   ]
  },
  {
   "cell_type": "code",
   "execution_count": 145,
   "id": "c5c60ba2-c791-4347-98d1-a9dda830a51a",
   "metadata": {
    "tags": []
   },
   "outputs": [],
   "source": [
    "training = pd.concat([training_2,training_3,training_4,training_5,training_1],axis=0)"
   ]
  },
  {
   "cell_type": "code",
   "execution_count": 146,
   "id": "6c7a73f9-fb72-4367-9967-d47132bcfe0c",
   "metadata": {
    "tags": []
   },
   "outputs": [],
   "source": [
    "training = training.sort_values(by = 'z')"
   ]
  },
  {
   "cell_type": "code",
   "execution_count": 147,
   "id": "9c243eb3-9856-48ed-9392-d7064cb9645f",
   "metadata": {
    "tags": []
   },
   "outputs": [
    {
     "data": {
      "text/html": [
       "<div>\n",
       "<style scoped>\n",
       "    .dataframe tbody tr th:only-of-type {\n",
       "        vertical-align: middle;\n",
       "    }\n",
       "\n",
       "    .dataframe tbody tr th {\n",
       "        vertical-align: top;\n",
       "    }\n",
       "\n",
       "    .dataframe thead th {\n",
       "        text-align: right;\n",
       "    }\n",
       "</style>\n",
       "<table border=\"1\" class=\"dataframe\">\n",
       "  <thead>\n",
       "    <tr style=\"text-align: right;\">\n",
       "      <th></th>\n",
       "      <th>alphawin_j2000</th>\n",
       "      <th>deltawin_j2000</th>\n",
       "      <th>ra</th>\n",
       "      <th>dec</th>\n",
       "      <th>extended_class_coadd</th>\n",
       "      <th>mag_auto_g</th>\n",
       "      <th>mag_auto_r</th>\n",
       "      <th>mag_auto_i</th>\n",
       "      <th>mag_auto_z</th>\n",
       "      <th>mag_auto_y</th>\n",
       "      <th>...</th>\n",
       "      <th>magerr_auto_r</th>\n",
       "      <th>magerr_auto_i</th>\n",
       "      <th>magerr_auto_z</th>\n",
       "      <th>magerr_auto_y</th>\n",
       "      <th>z</th>\n",
       "      <th>survey</th>\n",
       "      <th>coadd_object_id</th>\n",
       "      <th>err_z</th>\n",
       "      <th>flag_des</th>\n",
       "      <th>flag</th>\n",
       "    </tr>\n",
       "  </thead>\n",
       "  <tbody>\n",
       "    <tr>\n",
       "      <th>83704</th>\n",
       "      <td>51.526267</td>\n",
       "      <td>-28.043012</td>\n",
       "      <td>51.526267</td>\n",
       "      <td>-28.043012</td>\n",
       "      <td>2.0</td>\n",
       "      <td>21.863148</td>\n",
       "      <td>20.544191</td>\n",
       "      <td>19.367323</td>\n",
       "      <td>18.775034</td>\n",
       "      <td>18.179514</td>\n",
       "      <td>...</td>\n",
       "      <td>0.010915</td>\n",
       "      <td>0.006911</td>\n",
       "      <td>0.007443</td>\n",
       "      <td>0.017537</td>\n",
       "      <td>-0.00004</td>\n",
       "      <td>OzDES</td>\n",
       "      <td>NaN</td>\n",
       "      <td>NaN</td>\n",
       "      <td>NaN</td>\n",
       "      <td>NaN</td>\n",
       "    </tr>\n",
       "    <tr>\n",
       "      <th>316301</th>\n",
       "      <td>53.710307</td>\n",
       "      <td>-28.705020</td>\n",
       "      <td>53.710307</td>\n",
       "      <td>-28.705020</td>\n",
       "      <td>3.0</td>\n",
       "      <td>21.699507</td>\n",
       "      <td>20.888487</td>\n",
       "      <td>20.279921</td>\n",
       "      <td>19.968479</td>\n",
       "      <td>19.947905</td>\n",
       "      <td>...</td>\n",
       "      <td>0.014318</td>\n",
       "      <td>0.016840</td>\n",
       "      <td>0.018135</td>\n",
       "      <td>0.091048</td>\n",
       "      <td>0.00001</td>\n",
       "      <td>OzDES</td>\n",
       "      <td>NaN</td>\n",
       "      <td>NaN</td>\n",
       "      <td>NaN</td>\n",
       "      <td>NaN</td>\n",
       "    </tr>\n",
       "    <tr>\n",
       "      <th>280962</th>\n",
       "      <td>53.413018</td>\n",
       "      <td>-28.957184</td>\n",
       "      <td>53.413018</td>\n",
       "      <td>-28.957184</td>\n",
       "      <td>3.0</td>\n",
       "      <td>16.346836</td>\n",
       "      <td>15.746872</td>\n",
       "      <td>15.518516</td>\n",
       "      <td>15.381664</td>\n",
       "      <td>15.334456</td>\n",
       "      <td>...</td>\n",
       "      <td>0.000958</td>\n",
       "      <td>0.001431</td>\n",
       "      <td>0.002120</td>\n",
       "      <td>0.009711</td>\n",
       "      <td>0.00580</td>\n",
       "      <td>2dFRGS</td>\n",
       "      <td>NaN</td>\n",
       "      <td>NaN</td>\n",
       "      <td>NaN</td>\n",
       "      <td>NaN</td>\n",
       "    </tr>\n",
       "    <tr>\n",
       "      <th>202617</th>\n",
       "      <td>36.486117</td>\n",
       "      <td>-4.315873</td>\n",
       "      <td>36.486117</td>\n",
       "      <td>-4.315873</td>\n",
       "      <td>3.0</td>\n",
       "      <td>14.684835</td>\n",
       "      <td>14.142262</td>\n",
       "      <td>13.914722</td>\n",
       "      <td>13.712691</td>\n",
       "      <td>13.578382</td>\n",
       "      <td>...</td>\n",
       "      <td>0.000231</td>\n",
       "      <td>0.000311</td>\n",
       "      <td>0.000502</td>\n",
       "      <td>0.001201</td>\n",
       "      <td>0.01880</td>\n",
       "      <td>VVDS-DEEP_SNX3</td>\n",
       "      <td>NaN</td>\n",
       "      <td>NaN</td>\n",
       "      <td>NaN</td>\n",
       "      <td>NaN</td>\n",
       "    </tr>\n",
       "    <tr>\n",
       "      <th>192696</th>\n",
       "      <td>36.787422</td>\n",
       "      <td>-4.811946</td>\n",
       "      <td>36.787422</td>\n",
       "      <td>-4.811946</td>\n",
       "      <td>3.0</td>\n",
       "      <td>21.639528</td>\n",
       "      <td>21.137905</td>\n",
       "      <td>20.967508</td>\n",
       "      <td>20.817793</td>\n",
       "      <td>20.580000</td>\n",
       "      <td>...</td>\n",
       "      <td>0.018181</td>\n",
       "      <td>0.029483</td>\n",
       "      <td>0.047513</td>\n",
       "      <td>0.114295</td>\n",
       "      <td>0.03070</td>\n",
       "      <td>VVDS-DEEP_SNX3</td>\n",
       "      <td>NaN</td>\n",
       "      <td>NaN</td>\n",
       "      <td>NaN</td>\n",
       "      <td>NaN</td>\n",
       "    </tr>\n",
       "    <tr>\n",
       "      <th>...</th>\n",
       "      <td>...</td>\n",
       "      <td>...</td>\n",
       "      <td>...</td>\n",
       "      <td>...</td>\n",
       "      <td>...</td>\n",
       "      <td>...</td>\n",
       "      <td>...</td>\n",
       "      <td>...</td>\n",
       "      <td>...</td>\n",
       "      <td>...</td>\n",
       "      <td>...</td>\n",
       "      <td>...</td>\n",
       "      <td>...</td>\n",
       "      <td>...</td>\n",
       "      <td>...</td>\n",
       "      <td>...</td>\n",
       "      <td>...</td>\n",
       "      <td>...</td>\n",
       "      <td>...</td>\n",
       "      <td>...</td>\n",
       "      <td>...</td>\n",
       "    </tr>\n",
       "    <tr>\n",
       "      <th>1370</th>\n",
       "      <td>NaN</td>\n",
       "      <td>NaN</td>\n",
       "      <td>52.995427</td>\n",
       "      <td>-27.587889</td>\n",
       "      <td>NaN</td>\n",
       "      <td>22.979177</td>\n",
       "      <td>22.646105</td>\n",
       "      <td>22.489740</td>\n",
       "      <td>22.375202</td>\n",
       "      <td>22.179075</td>\n",
       "      <td>...</td>\n",
       "      <td>0.047879</td>\n",
       "      <td>0.083928</td>\n",
       "      <td>0.127426</td>\n",
       "      <td>0.395798</td>\n",
       "      <td>2.83562</td>\n",
       "      <td>ACES</td>\n",
       "      <td>1.394549e+09</td>\n",
       "      <td>0.000845</td>\n",
       "      <td>4.0</td>\n",
       "      <td>4.0</td>\n",
       "    </tr>\n",
       "    <tr>\n",
       "      <th>183157</th>\n",
       "      <td>36.364453</td>\n",
       "      <td>-4.711258</td>\n",
       "      <td>36.364453</td>\n",
       "      <td>-4.711258</td>\n",
       "      <td>2.0</td>\n",
       "      <td>23.873705</td>\n",
       "      <td>23.322233</td>\n",
       "      <td>23.284674</td>\n",
       "      <td>23.065578</td>\n",
       "      <td>22.457058</td>\n",
       "      <td>...</td>\n",
       "      <td>0.071387</td>\n",
       "      <td>0.123028</td>\n",
       "      <td>0.188292</td>\n",
       "      <td>0.338342</td>\n",
       "      <td>2.85670</td>\n",
       "      <td>VVDS-DEEP_SNX3</td>\n",
       "      <td>NaN</td>\n",
       "      <td>NaN</td>\n",
       "      <td>NaN</td>\n",
       "      <td>NaN</td>\n",
       "    </tr>\n",
       "    <tr>\n",
       "      <th>374330</th>\n",
       "      <td>37.275208</td>\n",
       "      <td>-5.241354</td>\n",
       "      <td>37.275208</td>\n",
       "      <td>-5.241354</td>\n",
       "      <td>2.0</td>\n",
       "      <td>20.531601</td>\n",
       "      <td>20.332012</td>\n",
       "      <td>20.505495</td>\n",
       "      <td>20.284128</td>\n",
       "      <td>20.153481</td>\n",
       "      <td>...</td>\n",
       "      <td>0.006661</td>\n",
       "      <td>0.013259</td>\n",
       "      <td>0.022100</td>\n",
       "      <td>0.062951</td>\n",
       "      <td>3.17391</td>\n",
       "      <td>SDSS/BOSS</td>\n",
       "      <td>NaN</td>\n",
       "      <td>NaN</td>\n",
       "      <td>NaN</td>\n",
       "      <td>NaN</td>\n",
       "    </tr>\n",
       "    <tr>\n",
       "      <th>210738</th>\n",
       "      <td>36.755125</td>\n",
       "      <td>-4.351286</td>\n",
       "      <td>36.755125</td>\n",
       "      <td>-4.351286</td>\n",
       "      <td>2.0</td>\n",
       "      <td>24.906641</td>\n",
       "      <td>23.690594</td>\n",
       "      <td>23.832243</td>\n",
       "      <td>22.709246</td>\n",
       "      <td>21.277733</td>\n",
       "      <td>...</td>\n",
       "      <td>0.125602</td>\n",
       "      <td>0.257667</td>\n",
       "      <td>0.195300</td>\n",
       "      <td>0.131354</td>\n",
       "      <td>3.27800</td>\n",
       "      <td>VVDS-DEEP_SNX3</td>\n",
       "      <td>NaN</td>\n",
       "      <td>NaN</td>\n",
       "      <td>NaN</td>\n",
       "      <td>NaN</td>\n",
       "    </tr>\n",
       "    <tr>\n",
       "      <th>196760</th>\n",
       "      <td>36.440046</td>\n",
       "      <td>-4.627221</td>\n",
       "      <td>36.440046</td>\n",
       "      <td>-4.627221</td>\n",
       "      <td>2.0</td>\n",
       "      <td>26.099558</td>\n",
       "      <td>24.484743</td>\n",
       "      <td>24.071842</td>\n",
       "      <td>24.596024</td>\n",
       "      <td>24.124405</td>\n",
       "      <td>...</td>\n",
       "      <td>0.138959</td>\n",
       "      <td>0.174192</td>\n",
       "      <td>0.535528</td>\n",
       "      <td>0.900959</td>\n",
       "      <td>3.41700</td>\n",
       "      <td>VVDS-DEEP_SNX3</td>\n",
       "      <td>NaN</td>\n",
       "      <td>NaN</td>\n",
       "      <td>NaN</td>\n",
       "      <td>NaN</td>\n",
       "    </tr>\n",
       "  </tbody>\n",
       "</table>\n",
       "<p>5074 rows × 21 columns</p>\n",
       "</div>"
      ],
      "text/plain": [
       "        alphawin_j2000  deltawin_j2000         ra        dec   \n",
       "83704        51.526267      -28.043012  51.526267 -28.043012  \\\n",
       "316301       53.710307      -28.705020  53.710307 -28.705020   \n",
       "280962       53.413018      -28.957184  53.413018 -28.957184   \n",
       "202617       36.486117       -4.315873  36.486117  -4.315873   \n",
       "192696       36.787422       -4.811946  36.787422  -4.811946   \n",
       "...                ...             ...        ...        ...   \n",
       "1370               NaN             NaN  52.995427 -27.587889   \n",
       "183157       36.364453       -4.711258  36.364453  -4.711258   \n",
       "374330       37.275208       -5.241354  37.275208  -5.241354   \n",
       "210738       36.755125       -4.351286  36.755125  -4.351286   \n",
       "196760       36.440046       -4.627221  36.440046  -4.627221   \n",
       "\n",
       "        extended_class_coadd  mag_auto_g  mag_auto_r  mag_auto_i  mag_auto_z   \n",
       "83704                    2.0   21.863148   20.544191   19.367323   18.775034  \\\n",
       "316301                   3.0   21.699507   20.888487   20.279921   19.968479   \n",
       "280962                   3.0   16.346836   15.746872   15.518516   15.381664   \n",
       "202617                   3.0   14.684835   14.142262   13.914722   13.712691   \n",
       "192696                   3.0   21.639528   21.137905   20.967508   20.817793   \n",
       "...                      ...         ...         ...         ...         ...   \n",
       "1370                     NaN   22.979177   22.646105   22.489740   22.375202   \n",
       "183157                   2.0   23.873705   23.322233   23.284674   23.065578   \n",
       "374330                   2.0   20.531601   20.332012   20.505495   20.284128   \n",
       "210738                   2.0   24.906641   23.690594   23.832243   22.709246   \n",
       "196760                   2.0   26.099558   24.484743   24.071842   24.596024   \n",
       "\n",
       "        mag_auto_y  ...  magerr_auto_r  magerr_auto_i  magerr_auto_z   \n",
       "83704    18.179514  ...       0.010915       0.006911       0.007443  \\\n",
       "316301   19.947905  ...       0.014318       0.016840       0.018135   \n",
       "280962   15.334456  ...       0.000958       0.001431       0.002120   \n",
       "202617   13.578382  ...       0.000231       0.000311       0.000502   \n",
       "192696   20.580000  ...       0.018181       0.029483       0.047513   \n",
       "...            ...  ...            ...            ...            ...   \n",
       "1370     22.179075  ...       0.047879       0.083928       0.127426   \n",
       "183157   22.457058  ...       0.071387       0.123028       0.188292   \n",
       "374330   20.153481  ...       0.006661       0.013259       0.022100   \n",
       "210738   21.277733  ...       0.125602       0.257667       0.195300   \n",
       "196760   24.124405  ...       0.138959       0.174192       0.535528   \n",
       "\n",
       "        magerr_auto_y        z          survey coadd_object_id     err_z   \n",
       "83704        0.017537 -0.00004           OzDES             NaN       NaN  \\\n",
       "316301       0.091048  0.00001           OzDES             NaN       NaN   \n",
       "280962       0.009711  0.00580          2dFRGS             NaN       NaN   \n",
       "202617       0.001201  0.01880  VVDS-DEEP_SNX3             NaN       NaN   \n",
       "192696       0.114295  0.03070  VVDS-DEEP_SNX3             NaN       NaN   \n",
       "...               ...      ...             ...             ...       ...   \n",
       "1370         0.395798  2.83562            ACES    1.394549e+09  0.000845   \n",
       "183157       0.338342  2.85670  VVDS-DEEP_SNX3             NaN       NaN   \n",
       "374330       0.062951  3.17391       SDSS/BOSS             NaN       NaN   \n",
       "210738       0.131354  3.27800  VVDS-DEEP_SNX3             NaN       NaN   \n",
       "196760       0.900959  3.41700  VVDS-DEEP_SNX3             NaN       NaN   \n",
       "\n",
       "        flag_des  flag  \n",
       "83704        NaN   NaN  \n",
       "316301       NaN   NaN  \n",
       "280962       NaN   NaN  \n",
       "202617       NaN   NaN  \n",
       "192696       NaN   NaN  \n",
       "...          ...   ...  \n",
       "1370         4.0   4.0  \n",
       "183157       NaN   NaN  \n",
       "374330       NaN   NaN  \n",
       "210738       NaN   NaN  \n",
       "196760       NaN   NaN  \n",
       "\n",
       "[5074 rows x 21 columns]"
      ]
     },
     "execution_count": 147,
     "metadata": {},
     "output_type": "execute_result"
    }
   ],
   "source": [
    "training"
   ]
  },
  {
   "cell_type": "markdown",
   "id": "4afac80b-2324-46d8-a607-7b5e736ec96d",
   "metadata": {
    "tags": []
   },
   "source": [
    "### Main testing sample"
   ]
  },
  {
   "cell_type": "code",
   "execution_count": 148,
   "id": "a88cb786-9e0b-498b-ac28-e674db95c037",
   "metadata": {
    "tags": []
   },
   "outputs": [],
   "source": [
    "testing_1 = vvds_snx3_matched.drop(training_1.index)\n",
    "testing_2 = sdss_matched.drop(training_2.index)\n",
    "testing_3 = aces_matched.drop(training_3.index)\n",
    "testing_4 = two_d_matched.drop(training_4.index)\n",
    "testing_5 = ozdes_matched.drop(training_5.index)"
   ]
  },
  {
   "cell_type": "code",
   "execution_count": 149,
   "id": "9b8dc67a-71a0-4a3e-abf7-552fc0f502d5",
   "metadata": {
    "tags": []
   },
   "outputs": [],
   "source": [
    "testing = pd.concat([testing_2,testing_3,testing_4,testing_5,vvds_snc3_matched,testing_1],axis=0)"
   ]
  },
  {
   "cell_type": "code",
   "execution_count": 150,
   "id": "988588b6-ca35-4d55-90fc-1fec07fa9f5e",
   "metadata": {
    "tags": []
   },
   "outputs": [],
   "source": [
    "testing = testing.sort_values(by = 'z')"
   ]
  },
  {
   "cell_type": "code",
   "execution_count": 151,
   "id": "72b524ec-a6b3-460a-b5f8-c94f8b731871",
   "metadata": {
    "tags": []
   },
   "outputs": [
    {
     "data": {
      "text/html": [
       "<div>\n",
       "<style scoped>\n",
       "    .dataframe tbody tr th:only-of-type {\n",
       "        vertical-align: middle;\n",
       "    }\n",
       "\n",
       "    .dataframe tbody tr th {\n",
       "        vertical-align: top;\n",
       "    }\n",
       "\n",
       "    .dataframe thead th {\n",
       "        text-align: right;\n",
       "    }\n",
       "</style>\n",
       "<table border=\"1\" class=\"dataframe\">\n",
       "  <thead>\n",
       "    <tr style=\"text-align: right;\">\n",
       "      <th></th>\n",
       "      <th>alphawin_j2000</th>\n",
       "      <th>deltawin_j2000</th>\n",
       "      <th>ra</th>\n",
       "      <th>dec</th>\n",
       "      <th>extended_class_coadd</th>\n",
       "      <th>mag_auto_g</th>\n",
       "      <th>mag_auto_r</th>\n",
       "      <th>mag_auto_i</th>\n",
       "      <th>mag_auto_z</th>\n",
       "      <th>mag_auto_y</th>\n",
       "      <th>...</th>\n",
       "      <th>magerr_auto_r</th>\n",
       "      <th>magerr_auto_i</th>\n",
       "      <th>magerr_auto_z</th>\n",
       "      <th>magerr_auto_y</th>\n",
       "      <th>z</th>\n",
       "      <th>survey</th>\n",
       "      <th>coadd_object_id</th>\n",
       "      <th>err_z</th>\n",
       "      <th>flag_des</th>\n",
       "      <th>flag</th>\n",
       "    </tr>\n",
       "  </thead>\n",
       "  <tbody>\n",
       "    <tr>\n",
       "      <th>30345</th>\n",
       "      <td>51.962026</td>\n",
       "      <td>-28.544130</td>\n",
       "      <td>51.962026</td>\n",
       "      <td>-28.544130</td>\n",
       "      <td>3.0</td>\n",
       "      <td>16.622868</td>\n",
       "      <td>15.669712</td>\n",
       "      <td>15.913943</td>\n",
       "      <td>15.761472</td>\n",
       "      <td>15.124874</td>\n",
       "      <td>...</td>\n",
       "      <td>0.000237</td>\n",
       "      <td>0.000390</td>\n",
       "      <td>0.000532</td>\n",
       "      <td>0.001139</td>\n",
       "      <td>-0.00070</td>\n",
       "      <td>2dFRGS</td>\n",
       "      <td>NaN</td>\n",
       "      <td>NaN</td>\n",
       "      <td>NaN</td>\n",
       "      <td>NaN</td>\n",
       "    </tr>\n",
       "    <tr>\n",
       "      <th>325838</th>\n",
       "      <td>53.352548</td>\n",
       "      <td>-28.058769</td>\n",
       "      <td>53.352548</td>\n",
       "      <td>-28.058769</td>\n",
       "      <td>3.0</td>\n",
       "      <td>20.806368</td>\n",
       "      <td>19.346584</td>\n",
       "      <td>18.447672</td>\n",
       "      <td>18.053997</td>\n",
       "      <td>17.991480</td>\n",
       "      <td>...</td>\n",
       "      <td>0.003026</td>\n",
       "      <td>0.002643</td>\n",
       "      <td>0.003058</td>\n",
       "      <td>0.012056</td>\n",
       "      <td>-0.00006</td>\n",
       "      <td>OzDES</td>\n",
       "      <td>NaN</td>\n",
       "      <td>NaN</td>\n",
       "      <td>NaN</td>\n",
       "      <td>NaN</td>\n",
       "    </tr>\n",
       "    <tr>\n",
       "      <th>187759</th>\n",
       "      <td>52.675018</td>\n",
       "      <td>-27.975026</td>\n",
       "      <td>52.675018</td>\n",
       "      <td>-27.975026</td>\n",
       "      <td>3.0</td>\n",
       "      <td>20.633921</td>\n",
       "      <td>19.122152</td>\n",
       "      <td>18.121801</td>\n",
       "      <td>17.705368</td>\n",
       "      <td>17.611238</td>\n",
       "      <td>...</td>\n",
       "      <td>0.002589</td>\n",
       "      <td>0.001860</td>\n",
       "      <td>0.002007</td>\n",
       "      <td>0.007754</td>\n",
       "      <td>-0.00004</td>\n",
       "      <td>OzDES</td>\n",
       "      <td>NaN</td>\n",
       "      <td>NaN</td>\n",
       "      <td>NaN</td>\n",
       "      <td>NaN</td>\n",
       "    </tr>\n",
       "    <tr>\n",
       "      <th>79618</th>\n",
       "      <td>53.081516</td>\n",
       "      <td>-28.865740</td>\n",
       "      <td>53.081516</td>\n",
       "      <td>-28.865740</td>\n",
       "      <td>2.0</td>\n",
       "      <td>21.384100</td>\n",
       "      <td>20.360123</td>\n",
       "      <td>19.561579</td>\n",
       "      <td>19.209375</td>\n",
       "      <td>19.193346</td>\n",
       "      <td>...</td>\n",
       "      <td>0.007098</td>\n",
       "      <td>0.006384</td>\n",
       "      <td>0.007643</td>\n",
       "      <td>0.034540</td>\n",
       "      <td>-0.00004</td>\n",
       "      <td>OzDES</td>\n",
       "      <td>NaN</td>\n",
       "      <td>NaN</td>\n",
       "      <td>NaN</td>\n",
       "      <td>NaN</td>\n",
       "    </tr>\n",
       "    <tr>\n",
       "      <th>218350</th>\n",
       "      <td>35.098977</td>\n",
       "      <td>-3.677724</td>\n",
       "      <td>35.098977</td>\n",
       "      <td>-3.677724</td>\n",
       "      <td>3.0</td>\n",
       "      <td>19.667759</td>\n",
       "      <td>19.901161</td>\n",
       "      <td>19.784492</td>\n",
       "      <td>19.502771</td>\n",
       "      <td>19.498690</td>\n",
       "      <td>...</td>\n",
       "      <td>0.005759</td>\n",
       "      <td>0.008029</td>\n",
       "      <td>0.011991</td>\n",
       "      <td>0.039413</td>\n",
       "      <td>0.00034</td>\n",
       "      <td>SDSS/BOSS</td>\n",
       "      <td>NaN</td>\n",
       "      <td>NaN</td>\n",
       "      <td>NaN</td>\n",
       "      <td>NaN</td>\n",
       "    </tr>\n",
       "    <tr>\n",
       "      <th>...</th>\n",
       "      <td>...</td>\n",
       "      <td>...</td>\n",
       "      <td>...</td>\n",
       "      <td>...</td>\n",
       "      <td>...</td>\n",
       "      <td>...</td>\n",
       "      <td>...</td>\n",
       "      <td>...</td>\n",
       "      <td>...</td>\n",
       "      <td>...</td>\n",
       "      <td>...</td>\n",
       "      <td>...</td>\n",
       "      <td>...</td>\n",
       "      <td>...</td>\n",
       "      <td>...</td>\n",
       "      <td>...</td>\n",
       "      <td>...</td>\n",
       "      <td>...</td>\n",
       "      <td>...</td>\n",
       "      <td>...</td>\n",
       "      <td>...</td>\n",
       "    </tr>\n",
       "    <tr>\n",
       "      <th>412124</th>\n",
       "      <td>36.976917</td>\n",
       "      <td>-4.443876</td>\n",
       "      <td>36.976917</td>\n",
       "      <td>-4.443876</td>\n",
       "      <td>2.0</td>\n",
       "      <td>23.556133</td>\n",
       "      <td>22.419399</td>\n",
       "      <td>22.348719</td>\n",
       "      <td>22.428991</td>\n",
       "      <td>22.192705</td>\n",
       "      <td>...</td>\n",
       "      <td>0.037759</td>\n",
       "      <td>0.066800</td>\n",
       "      <td>0.131534</td>\n",
       "      <td>0.280436</td>\n",
       "      <td>3.83520</td>\n",
       "      <td>VVDS-DEEP_SNX3</td>\n",
       "      <td>NaN</td>\n",
       "      <td>NaN</td>\n",
       "      <td>NaN</td>\n",
       "      <td>NaN</td>\n",
       "    </tr>\n",
       "    <tr>\n",
       "      <th>210960</th>\n",
       "      <td>36.748405</td>\n",
       "      <td>-4.309199</td>\n",
       "      <td>36.748405</td>\n",
       "      <td>-4.309199</td>\n",
       "      <td>2.0</td>\n",
       "      <td>25.378403</td>\n",
       "      <td>23.944036</td>\n",
       "      <td>23.869860</td>\n",
       "      <td>23.726408</td>\n",
       "      <td>24.136190</td>\n",
       "      <td>...</td>\n",
       "      <td>0.106292</td>\n",
       "      <td>0.173879</td>\n",
       "      <td>0.326869</td>\n",
       "      <td>1.195571</td>\n",
       "      <td>3.87250</td>\n",
       "      <td>VVDS-DEEP_SNX3</td>\n",
       "      <td>NaN</td>\n",
       "      <td>NaN</td>\n",
       "      <td>NaN</td>\n",
       "      <td>NaN</td>\n",
       "    </tr>\n",
       "    <tr>\n",
       "      <th>303991</th>\n",
       "      <td>36.321056</td>\n",
       "      <td>-4.153834</td>\n",
       "      <td>36.321056</td>\n",
       "      <td>-4.153834</td>\n",
       "      <td>2.0</td>\n",
       "      <td>25.026150</td>\n",
       "      <td>24.443306</td>\n",
       "      <td>24.046165</td>\n",
       "      <td>23.238583</td>\n",
       "      <td>22.852564</td>\n",
       "      <td>...</td>\n",
       "      <td>0.180906</td>\n",
       "      <td>0.224087</td>\n",
       "      <td>0.202039</td>\n",
       "      <td>0.361398</td>\n",
       "      <td>4.08260</td>\n",
       "      <td>VVDS-DEEP_SNX3</td>\n",
       "      <td>NaN</td>\n",
       "      <td>NaN</td>\n",
       "      <td>NaN</td>\n",
       "      <td>NaN</td>\n",
       "    </tr>\n",
       "    <tr>\n",
       "      <th>115790</th>\n",
       "      <td>36.489088</td>\n",
       "      <td>-5.438917</td>\n",
       "      <td>36.489088</td>\n",
       "      <td>-5.438917</td>\n",
       "      <td>3.0</td>\n",
       "      <td>21.507210</td>\n",
       "      <td>21.262779</td>\n",
       "      <td>21.195372</td>\n",
       "      <td>20.660839</td>\n",
       "      <td>20.592855</td>\n",
       "      <td>...</td>\n",
       "      <td>0.025053</td>\n",
       "      <td>0.040199</td>\n",
       "      <td>0.047329</td>\n",
       "      <td>0.121931</td>\n",
       "      <td>6.56176</td>\n",
       "      <td>SDSS/BOSS</td>\n",
       "      <td>NaN</td>\n",
       "      <td>NaN</td>\n",
       "      <td>NaN</td>\n",
       "      <td>NaN</td>\n",
       "    </tr>\n",
       "    <tr>\n",
       "      <th>404478</th>\n",
       "      <td>37.231091</td>\n",
       "      <td>-4.717159</td>\n",
       "      <td>37.231091</td>\n",
       "      <td>-4.717159</td>\n",
       "      <td>3.0</td>\n",
       "      <td>21.585169</td>\n",
       "      <td>19.827507</td>\n",
       "      <td>19.164602</td>\n",
       "      <td>18.759710</td>\n",
       "      <td>18.683062</td>\n",
       "      <td>...</td>\n",
       "      <td>0.008378</td>\n",
       "      <td>0.008062</td>\n",
       "      <td>0.010859</td>\n",
       "      <td>0.033896</td>\n",
       "      <td>6.83438</td>\n",
       "      <td>SDSS/BOSS</td>\n",
       "      <td>NaN</td>\n",
       "      <td>NaN</td>\n",
       "      <td>NaN</td>\n",
       "      <td>NaN</td>\n",
       "    </tr>\n",
       "  </tbody>\n",
       "</table>\n",
       "<p>5686 rows × 21 columns</p>\n",
       "</div>"
      ],
      "text/plain": [
       "        alphawin_j2000  deltawin_j2000         ra        dec   \n",
       "30345        51.962026      -28.544130  51.962026 -28.544130  \\\n",
       "325838       53.352548      -28.058769  53.352548 -28.058769   \n",
       "187759       52.675018      -27.975026  52.675018 -27.975026   \n",
       "79618        53.081516      -28.865740  53.081516 -28.865740   \n",
       "218350       35.098977       -3.677724  35.098977  -3.677724   \n",
       "...                ...             ...        ...        ...   \n",
       "412124       36.976917       -4.443876  36.976917  -4.443876   \n",
       "210960       36.748405       -4.309199  36.748405  -4.309199   \n",
       "303991       36.321056       -4.153834  36.321056  -4.153834   \n",
       "115790       36.489088       -5.438917  36.489088  -5.438917   \n",
       "404478       37.231091       -4.717159  37.231091  -4.717159   \n",
       "\n",
       "        extended_class_coadd  mag_auto_g  mag_auto_r  mag_auto_i  mag_auto_z   \n",
       "30345                    3.0   16.622868   15.669712   15.913943   15.761472  \\\n",
       "325838                   3.0   20.806368   19.346584   18.447672   18.053997   \n",
       "187759                   3.0   20.633921   19.122152   18.121801   17.705368   \n",
       "79618                    2.0   21.384100   20.360123   19.561579   19.209375   \n",
       "218350                   3.0   19.667759   19.901161   19.784492   19.502771   \n",
       "...                      ...         ...         ...         ...         ...   \n",
       "412124                   2.0   23.556133   22.419399   22.348719   22.428991   \n",
       "210960                   2.0   25.378403   23.944036   23.869860   23.726408   \n",
       "303991                   2.0   25.026150   24.443306   24.046165   23.238583   \n",
       "115790                   3.0   21.507210   21.262779   21.195372   20.660839   \n",
       "404478                   3.0   21.585169   19.827507   19.164602   18.759710   \n",
       "\n",
       "        mag_auto_y  ...  magerr_auto_r  magerr_auto_i  magerr_auto_z   \n",
       "30345    15.124874  ...       0.000237       0.000390       0.000532  \\\n",
       "325838   17.991480  ...       0.003026       0.002643       0.003058   \n",
       "187759   17.611238  ...       0.002589       0.001860       0.002007   \n",
       "79618    19.193346  ...       0.007098       0.006384       0.007643   \n",
       "218350   19.498690  ...       0.005759       0.008029       0.011991   \n",
       "...            ...  ...            ...            ...            ...   \n",
       "412124   22.192705  ...       0.037759       0.066800       0.131534   \n",
       "210960   24.136190  ...       0.106292       0.173879       0.326869   \n",
       "303991   22.852564  ...       0.180906       0.224087       0.202039   \n",
       "115790   20.592855  ...       0.025053       0.040199       0.047329   \n",
       "404478   18.683062  ...       0.008378       0.008062       0.010859   \n",
       "\n",
       "        magerr_auto_y        z          survey coadd_object_id  err_z   \n",
       "30345        0.001139 -0.00070          2dFRGS             NaN    NaN  \\\n",
       "325838       0.012056 -0.00006           OzDES             NaN    NaN   \n",
       "187759       0.007754 -0.00004           OzDES             NaN    NaN   \n",
       "79618        0.034540 -0.00004           OzDES             NaN    NaN   \n",
       "218350       0.039413  0.00034       SDSS/BOSS             NaN    NaN   \n",
       "...               ...      ...             ...             ...    ...   \n",
       "412124       0.280436  3.83520  VVDS-DEEP_SNX3             NaN    NaN   \n",
       "210960       1.195571  3.87250  VVDS-DEEP_SNX3             NaN    NaN   \n",
       "303991       0.361398  4.08260  VVDS-DEEP_SNX3             NaN    NaN   \n",
       "115790       0.121931  6.56176       SDSS/BOSS             NaN    NaN   \n",
       "404478       0.033896  6.83438       SDSS/BOSS             NaN    NaN   \n",
       "\n",
       "        flag_des  flag  \n",
       "30345        NaN   NaN  \n",
       "325838       NaN   NaN  \n",
       "187759       NaN   NaN  \n",
       "79618        NaN   NaN  \n",
       "218350       NaN   NaN  \n",
       "...          ...   ...  \n",
       "412124       NaN   NaN  \n",
       "210960       NaN   NaN  \n",
       "303991       NaN   NaN  \n",
       "115790       NaN   NaN  \n",
       "404478       NaN   NaN  \n",
       "\n",
       "[5686 rows x 21 columns]"
      ]
     },
     "execution_count": 151,
     "metadata": {},
     "output_type": "execute_result"
    }
   ],
   "source": [
    "testing"
   ]
  },
  {
   "cell_type": "code",
   "execution_count": 152,
   "id": "01a827e3-3f9b-4590-8852-757c2b0f286b",
   "metadata": {
    "tags": []
   },
   "outputs": [
    {
     "data": {
      "text/plain": [
       "<matplotlib.collections.PathCollection at 0x7f748d318bb0>"
      ]
     },
     "execution_count": 152,
     "metadata": {},
     "output_type": "execute_result"
    },
    {
     "data": {
      "image/png": "[encoded data removed]",
      "text/plain": [
       "<Figure size 640x480 with 1 Axes>"
      ]
     },
     "metadata": {},
     "output_type": "display_data"
    }
   ],
   "source": [
    "plt.scatter(testing['mag_auto_g']-testing['mag_auto_r'],testing['mag_auto_r']-testing['mag_auto_i'],color='black',s=0.4)\n",
    "plt.scatter(training['mag_auto_g']-training['mag_auto_r'],training['mag_auto_r']-training['mag_auto_i'],s=0.4)"
   ]
  },
  {
   "cell_type": "markdown",
   "id": "16c20021-6e93-415c-b4fc-70fe10795a48",
   "metadata": {
    "jp-MarkdownHeadingCollapsed": true,
    "tags": []
   },
   "source": [
    "## Saving the data according to the TPz requiriments/home/"
   ]
  },
  {
   "cell_type": "code",
   "execution_count": 153,
   "id": "fd523544-52c0-40bd-bff4-9a9e1ad6ec65",
   "metadata": {
    "tags": []
   },
   "outputs": [],
   "source": [
    "del testing['coadd_object_id'], testing['survey'], testing['err_z'], testing['flag'], testing['flag_des'], testing['ra'], testing['dec'], testing['alphawin_j2000'],testing['deltawin_j2000'],testing['extended_class_coadd']\n",
    "del training['coadd_object_id'], training['survey'], training['err_z'], training['flag'], training['flag_des'], training['ra'], training['dec'], training['alphawin_j2000'],training['deltawin_j2000'],training['extended_class_coadd']\n"
   ]
  },
  {
   "cell_type": "code",
   "execution_count": 154,
   "id": "d08c472b-b5a0-4b5d-bbea-43759d985465",
   "metadata": {
    "tags": []
   },
   "outputs": [],
   "source": [
    "last_column = training.columns[-1]\n",
    "training = training[[last_column] + [column for column in training.columns if column != last_column]]\n",
    "\n",
    "last_column2 = testing.columns[-1]\n",
    "testing = testing[[last_column2] + [column for column in training.columns if column != last_column2]]"
   ]
  },
  {
   "cell_type": "code",
   "execution_count": 155,
   "id": "13b957c6-b366-409e-8a90-246cc735471f",
   "metadata": {
    "tags": []
   },
   "outputs": [],
   "source": [
    "g = testing['mag_auto_g']\n",
    "r = testing['mag_auto_r']\n",
    "i = testing['mag_auto_i']\n",
    "z = testing['mag_auto_z']\n",
    "y = testing['mag_auto_y']\n",
    "gt = training['mag_auto_g']\n",
    "rt = training['mag_auto_r']\n",
    "it = training['mag_auto_i']\n",
    "zt = training['mag_auto_z']\n",
    "yt = training['mag_auto_y']\n",
    "\n",
    "testing['g-r'] = g-r\n",
    "testing['r-i'] = r-i\n",
    "testing['i-z'] = i-z\n",
    "testing['z-y'] = z-y\n",
    "training['g-r'] = gt-rt\n",
    "training['r-i'] = rt-it\n",
    "training['i-z'] = it-zt\n",
    "training['z-y'] = zt-yt"
   ]
  },
  {
   "cell_type": "code",
   "execution_count": 156,
   "id": "1848acfb-f3b4-4963-92fd-1b290aa20d32",
   "metadata": {
    "tags": []
   },
   "outputs": [],
   "source": [
    "testing.columns = ['#zs','g','r','i','z','y','eg','er','ei','ez','ey','g-r','r-i','i-z','z-y']\n",
    "training.columns = ['#zs','g','r','i','z','y','eg','er','ei','ez','ey','g-r','r-i','i-z','z-y']"
   ]
  },
  {
   "cell_type": "code",
   "execution_count": 157,
   "id": "59a5d537-4d7d-4a3e-b845-e62c7025a8ee",
   "metadata": {
    "tags": []
   },
   "outputs": [],
   "source": [
    "testing['eg-r'] = testing['eg']-testing['er']\n",
    "testing['er-i'] = testing['er']-testing['ei']\n",
    "testing['ei-z'] = testing['ei']-testing['ez']\n",
    "testing['ez-y'] = testing['ez']-testing['ey']\n",
    "training['eg-r'] = training['eg']-training['er']\n",
    "training['er-i'] = training['er']-training['ei']\n",
    "training['ei-z'] = training['ei']-training['ez']\n",
    "training['ez-y'] = training['ez']-training['ey']"
   ]
  },
  {
   "cell_type": "code",
   "execution_count": 160,
   "id": "f30b7008-58f5-4a14-9772-f4a7b6eb735a",
   "metadata": {
    "tags": []
   },
   "outputs": [],
   "source": [
    "testing.to_csv('/home/iago.dias/TPz_notebooks/iago/ml_analyses/samples/validation.sanchez.0', sep=' ', index = False)\n",
    "training.to_csv('/home/iago.dias/TPz_notebooks/iago/ml_analyses/samples/training.sanchez.0', sep=' ', index = False)"
   ]
  },
  {
   "cell_type": "code",
   "execution_count": 159,
   "id": "a3ec1278-8608-47a4-9337-2bf4cf8d26f9",
   "metadata": {
    "tags": []
   },
   "outputs": [
    {
     "data": {
      "text/html": [
       "<div>\n",
       "<style scoped>\n",
       "    .dataframe tbody tr th:only-of-type {\n",
       "        vertical-align: middle;\n",
       "    }\n",
       "\n",
       "    .dataframe tbody tr th {\n",
       "        vertical-align: top;\n",
       "    }\n",
       "\n",
       "    .dataframe thead th {\n",
       "        text-align: right;\n",
       "    }\n",
       "</style>\n",
       "<table border=\"1\" class=\"dataframe\">\n",
       "  <thead>\n",
       "    <tr style=\"text-align: right;\">\n",
       "      <th></th>\n",
       "      <th>#zs</th>\n",
       "      <th>g</th>\n",
       "      <th>r</th>\n",
       "      <th>i</th>\n",
       "      <th>z</th>\n",
       "      <th>y</th>\n",
       "      <th>eg</th>\n",
       "      <th>er</th>\n",
       "      <th>ei</th>\n",
       "      <th>ez</th>\n",
       "      <th>ey</th>\n",
       "      <th>g-r</th>\n",
       "      <th>r-i</th>\n",
       "      <th>i-z</th>\n",
       "      <th>z-y</th>\n",
       "      <th>eg-r</th>\n",
       "      <th>er-i</th>\n",
       "      <th>ei-z</th>\n",
       "      <th>ez-y</th>\n",
       "    </tr>\n",
       "  </thead>\n",
       "  <tbody>\n",
       "    <tr>\n",
       "      <th>30345</th>\n",
       "      <td>-0.00070</td>\n",
       "      <td>16.622868</td>\n",
       "      <td>15.669712</td>\n",
       "      <td>15.913943</td>\n",
       "      <td>15.761472</td>\n",
       "      <td>15.124874</td>\n",
       "      <td>0.000397</td>\n",
       "      <td>0.000237</td>\n",
       "      <td>0.000390</td>\n",
       "      <td>0.000532</td>\n",
       "      <td>0.001139</td>\n",
       "      <td>0.953156</td>\n",
       "      <td>-0.244231</td>\n",
       "      <td>0.152472</td>\n",
       "      <td>0.636598</td>\n",
       "      <td>0.000159</td>\n",
       "      <td>-0.000153</td>\n",
       "      <td>-0.000142</td>\n",
       "      <td>-0.000607</td>\n",
       "    </tr>\n",
       "    <tr>\n",
       "      <th>325838</th>\n",
       "      <td>-0.00006</td>\n",
       "      <td>20.806368</td>\n",
       "      <td>19.346584</td>\n",
       "      <td>18.447672</td>\n",
       "      <td>18.053997</td>\n",
       "      <td>17.991480</td>\n",
       "      <td>0.009232</td>\n",
       "      <td>0.003026</td>\n",
       "      <td>0.002643</td>\n",
       "      <td>0.003058</td>\n",
       "      <td>0.012056</td>\n",
       "      <td>1.459784</td>\n",
       "      <td>0.898912</td>\n",
       "      <td>0.393675</td>\n",
       "      <td>0.062517</td>\n",
       "      <td>0.006206</td>\n",
       "      <td>0.000383</td>\n",
       "      <td>-0.000414</td>\n",
       "      <td>-0.008998</td>\n",
       "    </tr>\n",
       "    <tr>\n",
       "      <th>187759</th>\n",
       "      <td>-0.00004</td>\n",
       "      <td>20.633921</td>\n",
       "      <td>19.122152</td>\n",
       "      <td>18.121801</td>\n",
       "      <td>17.705368</td>\n",
       "      <td>17.611238</td>\n",
       "      <td>0.007379</td>\n",
       "      <td>0.002589</td>\n",
       "      <td>0.001860</td>\n",
       "      <td>0.002007</td>\n",
       "      <td>0.007754</td>\n",
       "      <td>1.511768</td>\n",
       "      <td>1.000351</td>\n",
       "      <td>0.416433</td>\n",
       "      <td>0.094130</td>\n",
       "      <td>0.004790</td>\n",
       "      <td>0.000728</td>\n",
       "      <td>-0.000147</td>\n",
       "      <td>-0.005747</td>\n",
       "    </tr>\n",
       "    <tr>\n",
       "      <th>79618</th>\n",
       "      <td>-0.00004</td>\n",
       "      <td>21.384100</td>\n",
       "      <td>20.360123</td>\n",
       "      <td>19.561579</td>\n",
       "      <td>19.209375</td>\n",
       "      <td>19.193346</td>\n",
       "      <td>0.014604</td>\n",
       "      <td>0.007098</td>\n",
       "      <td>0.006384</td>\n",
       "      <td>0.007643</td>\n",
       "      <td>0.034540</td>\n",
       "      <td>1.023977</td>\n",
       "      <td>0.798544</td>\n",
       "      <td>0.352203</td>\n",
       "      <td>0.016029</td>\n",
       "      <td>0.007507</td>\n",
       "      <td>0.000713</td>\n",
       "      <td>-0.001259</td>\n",
       "      <td>-0.026896</td>\n",
       "    </tr>\n",
       "    <tr>\n",
       "      <th>218350</th>\n",
       "      <td>0.00034</td>\n",
       "      <td>19.667759</td>\n",
       "      <td>19.901161</td>\n",
       "      <td>19.784492</td>\n",
       "      <td>19.502771</td>\n",
       "      <td>19.498690</td>\n",
       "      <td>0.003233</td>\n",
       "      <td>0.005759</td>\n",
       "      <td>0.008029</td>\n",
       "      <td>0.011991</td>\n",
       "      <td>0.039413</td>\n",
       "      <td>-0.233402</td>\n",
       "      <td>0.116669</td>\n",
       "      <td>0.281721</td>\n",
       "      <td>0.004082</td>\n",
       "      <td>-0.002526</td>\n",
       "      <td>-0.002270</td>\n",
       "      <td>-0.003962</td>\n",
       "      <td>-0.027421</td>\n",
       "    </tr>\n",
       "    <tr>\n",
       "      <th>...</th>\n",
       "      <td>...</td>\n",
       "      <td>...</td>\n",
       "      <td>...</td>\n",
       "      <td>...</td>\n",
       "      <td>...</td>\n",
       "      <td>...</td>\n",
       "      <td>...</td>\n",
       "      <td>...</td>\n",
       "      <td>...</td>\n",
       "      <td>...</td>\n",
       "      <td>...</td>\n",
       "      <td>...</td>\n",
       "      <td>...</td>\n",
       "      <td>...</td>\n",
       "      <td>...</td>\n",
       "      <td>...</td>\n",
       "      <td>...</td>\n",
       "      <td>...</td>\n",
       "      <td>...</td>\n",
       "    </tr>\n",
       "    <tr>\n",
       "      <th>412124</th>\n",
       "      <td>3.83520</td>\n",
       "      <td>23.556133</td>\n",
       "      <td>22.419399</td>\n",
       "      <td>22.348719</td>\n",
       "      <td>22.428991</td>\n",
       "      <td>22.192705</td>\n",
       "      <td>0.081059</td>\n",
       "      <td>0.037759</td>\n",
       "      <td>0.066800</td>\n",
       "      <td>0.131534</td>\n",
       "      <td>0.280436</td>\n",
       "      <td>1.136734</td>\n",
       "      <td>0.070681</td>\n",
       "      <td>-0.080273</td>\n",
       "      <td>0.236286</td>\n",
       "      <td>0.043300</td>\n",
       "      <td>-0.029040</td>\n",
       "      <td>-0.064735</td>\n",
       "      <td>-0.148902</td>\n",
       "    </tr>\n",
       "    <tr>\n",
       "      <th>210960</th>\n",
       "      <td>3.87250</td>\n",
       "      <td>25.378403</td>\n",
       "      <td>23.944036</td>\n",
       "      <td>23.869860</td>\n",
       "      <td>23.726408</td>\n",
       "      <td>24.136190</td>\n",
       "      <td>0.316299</td>\n",
       "      <td>0.106292</td>\n",
       "      <td>0.173879</td>\n",
       "      <td>0.326869</td>\n",
       "      <td>1.195571</td>\n",
       "      <td>1.434366</td>\n",
       "      <td>0.074177</td>\n",
       "      <td>0.143452</td>\n",
       "      <td>-0.409782</td>\n",
       "      <td>0.210007</td>\n",
       "      <td>-0.067587</td>\n",
       "      <td>-0.152989</td>\n",
       "      <td>-0.868703</td>\n",
       "    </tr>\n",
       "    <tr>\n",
       "      <th>303991</th>\n",
       "      <td>4.08260</td>\n",
       "      <td>25.026150</td>\n",
       "      <td>24.443306</td>\n",
       "      <td>24.046165</td>\n",
       "      <td>23.238583</td>\n",
       "      <td>22.852564</td>\n",
       "      <td>0.240922</td>\n",
       "      <td>0.180906</td>\n",
       "      <td>0.224087</td>\n",
       "      <td>0.202039</td>\n",
       "      <td>0.361398</td>\n",
       "      <td>0.582844</td>\n",
       "      <td>0.397141</td>\n",
       "      <td>0.807583</td>\n",
       "      <td>0.386019</td>\n",
       "      <td>0.060016</td>\n",
       "      <td>-0.043181</td>\n",
       "      <td>0.022048</td>\n",
       "      <td>-0.159360</td>\n",
       "    </tr>\n",
       "    <tr>\n",
       "      <th>115790</th>\n",
       "      <td>6.56176</td>\n",
       "      <td>21.507210</td>\n",
       "      <td>21.262779</td>\n",
       "      <td>21.195372</td>\n",
       "      <td>20.660839</td>\n",
       "      <td>20.592855</td>\n",
       "      <td>0.022365</td>\n",
       "      <td>0.025053</td>\n",
       "      <td>0.040199</td>\n",
       "      <td>0.047329</td>\n",
       "      <td>0.121931</td>\n",
       "      <td>0.244431</td>\n",
       "      <td>0.067408</td>\n",
       "      <td>0.534533</td>\n",
       "      <td>0.067984</td>\n",
       "      <td>-0.002688</td>\n",
       "      <td>-0.015146</td>\n",
       "      <td>-0.007131</td>\n",
       "      <td>-0.074602</td>\n",
       "    </tr>\n",
       "    <tr>\n",
       "      <th>404478</th>\n",
       "      <td>6.83438</td>\n",
       "      <td>21.585169</td>\n",
       "      <td>19.827507</td>\n",
       "      <td>19.164602</td>\n",
       "      <td>18.759710</td>\n",
       "      <td>18.683062</td>\n",
       "      <td>0.028995</td>\n",
       "      <td>0.008378</td>\n",
       "      <td>0.008062</td>\n",
       "      <td>0.010859</td>\n",
       "      <td>0.033896</td>\n",
       "      <td>1.757662</td>\n",
       "      <td>0.662905</td>\n",
       "      <td>0.404892</td>\n",
       "      <td>0.076649</td>\n",
       "      <td>0.020617</td>\n",
       "      <td>0.000316</td>\n",
       "      <td>-0.002797</td>\n",
       "      <td>-0.023037</td>\n",
       "    </tr>\n",
       "  </tbody>\n",
       "</table>\n",
       "<p>5686 rows × 19 columns</p>\n",
       "</div>"
      ],
      "text/plain": [
       "            #zs          g          r          i          z          y   \n",
       "30345  -0.00070  16.622868  15.669712  15.913943  15.761472  15.124874  \\\n",
       "325838 -0.00006  20.806368  19.346584  18.447672  18.053997  17.991480   \n",
       "187759 -0.00004  20.633921  19.122152  18.121801  17.705368  17.611238   \n",
       "79618  -0.00004  21.384100  20.360123  19.561579  19.209375  19.193346   \n",
       "218350  0.00034  19.667759  19.901161  19.784492  19.502771  19.498690   \n",
       "...         ...        ...        ...        ...        ...        ...   \n",
       "412124  3.83520  23.556133  22.419399  22.348719  22.428991  22.192705   \n",
       "210960  3.87250  25.378403  23.944036  23.869860  23.726408  24.136190   \n",
       "303991  4.08260  25.026150  24.443306  24.046165  23.238583  22.852564   \n",
       "115790  6.56176  21.507210  21.262779  21.195372  20.660839  20.592855   \n",
       "404478  6.83438  21.585169  19.827507  19.164602  18.759710  18.683062   \n",
       "\n",
       "              eg        er        ei        ez        ey       g-r       r-i   \n",
       "30345   0.000397  0.000237  0.000390  0.000532  0.001139  0.953156 -0.244231  \\\n",
       "325838  0.009232  0.003026  0.002643  0.003058  0.012056  1.459784  0.898912   \n",
       "187759  0.007379  0.002589  0.001860  0.002007  0.007754  1.511768  1.000351   \n",
       "79618   0.014604  0.007098  0.006384  0.007643  0.034540  1.023977  0.798544   \n",
       "218350  0.003233  0.005759  0.008029  0.011991  0.039413 -0.233402  0.116669   \n",
       "...          ...       ...       ...       ...       ...       ...       ...   \n",
       "412124  0.081059  0.037759  0.066800  0.131534  0.280436  1.136734  0.070681   \n",
       "210960  0.316299  0.106292  0.173879  0.326869  1.195571  1.434366  0.074177   \n",
       "303991  0.240922  0.180906  0.224087  0.202039  0.361398  0.582844  0.397141   \n",
       "115790  0.022365  0.025053  0.040199  0.047329  0.121931  0.244431  0.067408   \n",
       "404478  0.028995  0.008378  0.008062  0.010859  0.033896  1.757662  0.662905   \n",
       "\n",
       "             i-z       z-y      eg-r      er-i      ei-z      ez-y  \n",
       "30345   0.152472  0.636598  0.000159 -0.000153 -0.000142 -0.000607  \n",
       "325838  0.393675  0.062517  0.006206  0.000383 -0.000414 -0.008998  \n",
       "187759  0.416433  0.094130  0.004790  0.000728 -0.000147 -0.005747  \n",
       "79618   0.352203  0.016029  0.007507  0.000713 -0.001259 -0.026896  \n",
       "218350  0.281721  0.004082 -0.002526 -0.002270 -0.003962 -0.027421  \n",
       "...          ...       ...       ...       ...       ...       ...  \n",
       "412124 -0.080273  0.236286  0.043300 -0.029040 -0.064735 -0.148902  \n",
       "210960  0.143452 -0.409782  0.210007 -0.067587 -0.152989 -0.868703  \n",
       "303991  0.807583  0.386019  0.060016 -0.043181  0.022048 -0.159360  \n",
       "115790  0.534533  0.067984 -0.002688 -0.015146 -0.007131 -0.074602  \n",
       "404478  0.404892  0.076649  0.020617  0.000316 -0.002797 -0.023037  \n",
       "\n",
       "[5686 rows x 19 columns]"
      ]
     },
     "execution_count": 159,
     "metadata": {},
     "output_type": "execute_result"
    }
   ],
   "source": [
    "testing"
   ]
  },
  {
   "cell_type": "markdown",
   "id": "4ce59e60-ecc0-4b60-9a28-2ee9296385a9",
   "metadata": {
    "tags": []
   },
   "source": [
    "# Previous plots inspired in paper"
   ]
  },
  {
   "cell_type": "markdown",
   "id": "673a6ef6-1c03-486c-a668-1b40c8f416de",
   "metadata": {
    "jp-MarkdownHeadingCollapsed": true,
    "tags": []
   },
   "source": [
    "## Functions for plots"
   ]
  },
  {
   "cell_type": "code",
   "execution_count": 138,
   "id": "913b907e-a2c5-4447-a232-517b92e6a490",
   "metadata": {
    "tags": []
   },
   "outputs": [],
   "source": [
    "def histogram_zspec(catalog,column_name):\n",
    "    plt.figure(figsize=(10,10))\n",
    "    r = plt.hist(catalog[column_name], bins = 15,histtype='step',color='red')\n",
    "    plt.xlim(0,1.4)\n",
    "    plt.yticks([500,1000,1500,2000,2500,3000])\n",
    "    plt.xlabel('Zspec')\n",
    "    plt.ylabel('Counts')"
   ]
  },
  {
   "cell_type": "code",
   "execution_count": 139,
   "id": "be15e64c-8587-447c-92ef-976c103b7e86",
   "metadata": {
    "tags": []
   },
   "outputs": [],
   "source": [
    "def sn_mag(catalog):\n",
    "    i=1\n",
    "    plt.figure(figsize=(10,10))\n",
    "    for band in ['g','r','i','z']:\n",
    "        plt.subplot(2,2,i)\n",
    "        sn = 1/(10**(0.4*catalog[f'magerr_auto_{band}'])-1)\n",
    "        plt.scatter(catalog[f'mag_auto_{band}'], sn,color = 'red',s=2)\n",
    "        plt.xlim(21,25)\n",
    "        plt.ylim(0,60)\n",
    "        plt.title(f'{band} magnitude')\n",
    "        plt.xticks([21.5,22.5,23.5,24.5])\n",
    "        i+=1"
   ]
  },
  {
   "cell_type": "markdown",
   "id": "6dacb2f8-7a45-4bfb-8db7-81734a6020b0",
   "metadata": {
    "jp-MarkdownHeadingCollapsed": true,
    "tags": []
   },
   "source": [
    "## Plots"
   ]
  },
  {
   "cell_type": "code",
   "execution_count": 140,
   "id": "9cc5451a-d636-4915-892b-0f6c69939d84",
   "metadata": {
    "tags": []
   },
   "outputs": [
    {
     "data": {
      "image/png": "[encoded data removed]",
      "text/plain": [
       "<Figure size 1000x1000 with 4 Axes>"
      ]
     },
     "metadata": {},
     "output_type": "display_data"
    }
   ],
   "source": [
    "sn_mag(dr2_sample)"
   ]
  },
  {
   "cell_type": "code",
   "execution_count": 141,
   "id": "a80e8d8f-17ae-40c7-b279-beac7ad43be0",
   "metadata": {
    "tags": []
   },
   "outputs": [],
   "source": [
    "main = pd.concat([testing,training],axis=0)\n",
    "main = main[main['#zs']<1.4]"
   ]
  },
  {
   "cell_type": "code",
   "execution_count": 142,
   "id": "bc18ab98-bae7-4aa5-afdb-90c750eb3ad1",
   "metadata": {
    "tags": []
   },
   "outputs": [
    {
     "data": {
      "image/png": "[encoded data removed]",
      "text/plain": [
       "<Figure size 1000x1000 with 1 Axes>"
      ]
     },
     "metadata": {},
     "output_type": "display_data"
    }
   ],
   "source": [
    "histogram_zspec(main,'#zs')"
   ]
  },
  {
   "cell_type": "markdown",
   "id": "aaed65b7-add4-459b-8351-a82b41976383",
   "metadata": {
    "tags": []
   },
   "source": [
    "# Results analyses"
   ]
  },
  {
   "cell_type": "markdown",
   "id": "243e7c1d-d3cf-493b-9704-169533100c4e",
   "metadata": {},
   "source": [
    "Choose the result file for analyses"
   ]
  },
  {
   "cell_type": "code",
   "execution_count": 4,
   "id": "5ba565c7-9973-47e0-b323-0e807c57fcfe",
   "metadata": {
    "tags": []
   },
   "outputs": [],
   "source": [
    "\n",
    "column_names = ['ztrue','zmode0','zmean1','zConf0','zConf1','err0','err1']\n",
    "df = pd.read_csv('/home/iago.dias/TPz_notebooks/iago/ml_analyses/samples/results/results.DR2.1.mlz',names = column_names, header = None, skiprows =1, sep =' ')\n",
    "\n",
    "zspec=df['ztrue']\n",
    "zphot = df['zmean1']\n"
   ]
  },
  {
   "cell_type": "markdown",
   "id": "31c61477-406a-4faa-adb2-0db340383ce9",
   "metadata": {
    "tags": []
   },
   "source": [
    "## Phot sample for weighting "
   ]
  },
  {
   "cell_type": "markdown",
   "id": "72961eac-71d0-4287-9875-d179dce6a0ab",
   "metadata": {},
   "source": [
    "```sql\n",
    "\n",
    "SELECT alphawin_j2000, deltawin_j2000,ra,dec, mag_auto_g, mag_auto_r,mag_auto_i,mag_auto_z,mag_auto_y, magerr_auto_g, magerr_auto_r, magerr_auto_i, magerr_auto_z, magerr_auto_y FROM des_dr2.coadd_objects WHERE mag_auto_i>18 AND mag_auto_i<24 AND mag_auto_g-mag_auto_r BETWEEN 0 AND 2 AND mag_auto_r-mag_auto_i BETWEEN 0 AND 2 AND extended_class_coadd >= 2 AND mag_auto_g<90 AND mag_auto_r<90 AND mag_auto_i<90 AND mag_auto_z<90 AND mag_auto_y<90 ORDER BY RANDOM() LIMIT {l} \n",
    "\n",
    " \n",
    "```\n"
   ]
  },
  {
   "cell_type": "code",
   "execution_count": 196,
   "id": "d52cae68-5208-4b24-8835-28db773be120",
   "metadata": {
    "tags": []
   },
   "outputs": [],
   "source": [
    "\n",
    "l = 25000\n",
    "query_sanchez_dr2 = f\"SELECT alphawin_j2000, deltawin_j2000,ra,dec, mag_auto_g, mag_auto_r,mag_auto_i,mag_auto_z,mag_auto_y, magerr_auto_g, magerr_auto_r, magerr_auto_i, magerr_auto_z, magerr_auto_y FROM des_dr2.coadd_objects WHERE mag_auto_i>18 AND mag_auto_i<24 AND mag_auto_g-mag_auto_r BETWEEN 0 AND 2 AND mag_auto_r-mag_auto_i BETWEEN 0 AND 2 AND extended_class_coadd >= 2 AND mag_auto_g<90 AND mag_auto_r<90 AND mag_auto_i<90 AND mag_auto_z<90 AND mag_auto_y<90 ORDER BY RANDOM() LIMIT {l} \"\n",
    "\n"
   ]
  },
  {
   "cell_type": "markdown",
   "id": "46165c4e-e27a-4229-9d10-a38864e05afc",
   "metadata": {},
   "source": [
    "```sql\n",
    "SELECT erdr2_sample_image, ra, dec, extended_class_coadd, mag_auto_g, mag_auto_r, mag_auto_i, mag_auto_z, mag_auto_y, magerr_auto_g, magerr_auto_r, magerr_auto_i, magerr_auto_z, magerr_auto_y \n",
    "FROM des_dr2.coadd_objects \n",
    "WHERE extended_class_coadd>=2 AND flags_g<4 AND flags_r<4 AND flags_i<4 AND flags_z<4 AND flags_y<4 AND mag_auto_i_dered>16 AND mag_auto_r_dered>16 AND mag_auto_g_dered - mag_auto_r_dered BETWEEN -1 AND 4 AND mag_auto_r_dered - mag_auto_i_dered BETWEEN -1 AND 4 AND mag_auto_i_dered - mag_auto_z_dered BETWEEN -1 AND 4 AND magerr_auto_g<0.1086 AND magerr_auto_r<0.1086 AND magerr_auto_i<0.1086 AND magerr_auto_z<0.1086 AND magerr_auto_y<0.1086 ORDER BY RANDOM() LIMIT 100000;\n",
    "\n",
    "\n",
    "\n",
    "```"
   ]
  },
  {
   "cell_type": "code",
   "execution_count": 237,
   "id": "e442bd1c-8cd4-4f7f-8e36-9d59d8d7f910",
   "metadata": {
    "tags": []
   },
   "outputs": [],
   "source": [
    "\n",
    "\n",
    "query_dr2_spec_catalog = \"SELECT erra_image, ra, dec, extended_class_coadd, mag_auto_g, mag_auto_r, mag_auto_i, mag_auto_z, mag_auto_y, magerr_auto_g, magerr_auto_r, magerr_auto_i, magerr_auto_z, magerr_auto_y FROM des_dr2.coadd_objects WHERE extended_class_coadd>=2 AND flags_g<4 AND flags_r<4 AND flags_i<4 AND flags_z<4 AND flags_y<4 AND mag_auto_i_dered>16 AND mag_auto_r_dered>16 AND mag_auto_g_dered - mag_auto_r_dered BETWEEN -1 AND 4 AND mag_auto_r_dered - mag_auto_i_dered BETWEEN -1 AND 4 AND mag_auto_i_dered - mag_auto_z_dered BETWEEN -1 AND 4 AND magerr_auto_g<0.1086 AND magerr_auto_r<0.1086 AND magerr_auto_i<0.1086 AND magerr_auto_z<0.1086 AND magerr_auto_y<0.1086 ORDER BY RANDOM() LIMIT 100000;\"\n",
    "\n",
    "\n"
   ]
  },
  {
   "cell_type": "code",
   "execution_count": 5,
   "id": "8df4f8e9-e2c4-4ab3-ba02-95b0007a14d3",
   "metadata": {
    "tags": []
   },
   "outputs": [
    {
     "name": "stdout",
     "output_type": "stream",
     "text": [
      "CPU times: user 325 ms, sys: 55 ms, total: 380 ms\n",
      "Wall time: 386 ms\n"
     ]
    }
   ],
   "source": [
    "%%time\n",
    "###### FOR SPEC CATALOG #######\n",
    "#origin = db.fetchall_df(query_dr2_spec_catalog)\n",
    "#dr2_sample = origin\n",
    "dr2_sample = pd.read_csv('/home/iago.dias/TPz_notebooks/iago/ml_analyses/samples/phot_sample_weighting_GAMA_VIPERS_VVDS.csv', sep =' ') # data saved\n",
    "\n",
    "\n",
    "####### FOR SANCHEZ #######\n",
    "#dr2_sample = db.fetchall_df(query_sanchez_dr2)\n",
    "#dr2_sample = pd.read_csv('/home/iago.dias/TPz_notebooks/iago/ml_analyses/samples/phot_sample_weighting_GAMA_VIPERS_VVDS.csv', sep =' ') # data saved"
   ]
  },
  {
   "cell_type": "markdown",
   "id": "77b0f285-a1f1-4c01-af7b-08448d982e17",
   "metadata": {
    "jp-MarkdownHeadingCollapsed": true,
    "tags": []
   },
   "source": [
    "## Functions for analyses"
   ]
  },
  {
   "cell_type": "code",
   "execution_count": 12,
   "id": "2f1fe04b-8ed2-4ec9-b8dd-07cfe388afd1",
   "metadata": {
    "tags": []
   },
   "outputs": [],
   "source": [
    "def plot_scatter(zspec,zphot):\n",
    "    # Calcula a estimativa de densidade usando kernel\n",
    "    kde = gaussian_kde([zspec, zphot])\n",
    "\n",
    "    # Define os limites do gráfico\n",
    "    x_min, x_max = min(zspec), max(zspec)\n",
    "    y_min, y_max = min(zphot), max(zphot)\n",
    "    \n",
    "    # Cria uma grade de valores para o gráfico\n",
    "    x, y = np.meshgrid(np.linspace(x_min, x_max, 100), np.linspace(y_min, y_max, 100))\n",
    "    z = kde(np.vstack([x.ravel(), y.ravel()]))\n",
    "    plt.figure(figsize=(8,6))\n",
    "\n",
    "\n",
    "    plt.plot(zspec,zspec,'r--', linewidth =0.5)\n",
    "\n",
    "\n",
    "    plt.contourf(x, y, z.reshape(x.shape), cmap='turbo', levels=100)\n",
    "    colorbar = plt.colorbar()\n",
    "    colorbar.set_label('Density', fontsize=20)\n",
    "\n",
    "    plt.xlim(0, max(zphot))\n",
    "    plt.ylim(0, max(zphot))\n",
    "\n",
    "    plt.xlabel(r'$z_{spec}$', fontsize=22)\n",
    "    plt.ylabel(r'$z_{phot}$',fontsize=22)\n",
    "\n",
    "    plt.xticks(fontsize=14)  \n",
    "    plt.yticks(fontsize=14)\n",
    "\n",
    "\n",
    "    plt.show()"
   ]
  },
  {
   "cell_type": "code",
   "execution_count": 13,
   "id": "f92538b1-4c00-4693-a68c-80311a6c0596",
   "metadata": {
    "tags": []
   },
   "outputs": [],
   "source": [
    "def plot_metrics(zspec,zphot,maximum=round(max(zphot),1)):\n",
    "    \n",
    "    bins = np.arange(0.0, maximum, 0.1)\n",
    "    points = bins+0.05\n",
    "    fraction_outliers = []\n",
    "    sigma68z = []\n",
    "    sigmaz=[]\n",
    "    meanz = []\n",
    "    outliers_2 = []\n",
    "\n",
    "    for index in range(len(bins) - 1):\n",
    "        bin_lower = bins[index]\n",
    "        bin_upper = bins[index + 1]\n",
    "    \n",
    "        values_r = zphot[(zphot >= bin_lower) & (zphot <= bin_upper)]\n",
    "        values_s = zspec[(zphot >= bin_lower) & (zphot <= bin_upper)]\n",
    "        \n",
    "        \n",
    "\n",
    "        deltabias = (values_r - values_s)\n",
    "        mean_bias = np.mean(deltabias)  # Mean bias for each bin\n",
    "        meanz.append(mean_bias)\n",
    "        \n",
    "        \n",
    "    \n",
    "        s = np.sort(np.abs(deltabias/(1+values_s)))  # Standard deviation (sigma) for each bin\n",
    "        sigma68 = s[int(len(s)*0.68)]\n",
    "        sigma68z.append(sigma68)\n",
    "        \n",
    "        \n",
    "        \n",
    "        sigma = (np.sum((values_r-values_s-mean_bias)**2)/len(values_r))**0.5\n",
    "        sigmaz.append(sigma)\n",
    "    \n",
    "        # Calculate the fraction of outliers outside 3 sigma\n",
    "        outliers = deltabias[np.abs(deltabias-mean_bias) > 3 * sigma]\n",
    "        fraction_outlier = len(outliers) / len(deltabias)\n",
    "        fraction_outliers.append(fraction_outlier)\n",
    "        \n",
    "        \n",
    "    \n",
    "        #2 sigma\n",
    "        outliers2 = deltabias[np.abs(deltabias-mean_bias) > 2 * sigma]\n",
    "        fraction_outlier2 = len(outliers2) / len(deltabias)\n",
    "        outliers_2.append(fraction_outlier2)\n",
    "\n",
    "\n",
    "\n",
    "    fig, axes = plt.subplots(4, 1, figsize=(8, 14), sharex=True)\n",
    "    plt.subplots_adjust(hspace=0.001)  # Ajuste o espaço entre os subplots\n",
    "\n",
    "    # Configure os limites x comuns para todos os subplots\n",
    "    x_lim = (0, np.max(bins))\n",
    "\n",
    "    # Subplot 1: Mean Bias\n",
    "    axes[0].plot(points[:-1], meanz, 'bo-')\n",
    "    axes[0].axhline(0, color='black', linestyle='--')\n",
    "    axes[0].set_ylabel(r'$\\Delta z$', fontsize=20)\n",
    "    axes[0].set_xlim(x_lim)\n",
    "    axes[0].tick_params(axis='both', labelsize=14)\n",
    "    axes[0].grid(True)\n",
    "\n",
    "    # Subplot 2: Sigma 68\n",
    "    axes[1].plot(points[:-1], sigma68z, 'go-')\n",
    "    axes[1].set_ylabel(r'$\\sigma_{68}$', fontsize=20)\n",
    "    axes[1].set_xlim(x_lim)\n",
    "    axes[1].axhline(0.12, color='black', linestyle='--')\n",
    "    axes[1].set_ylim(0,max(sigmaz)+0.01)\n",
    "    #axes[1].set_ylim(0, 0.4)\n",
    "    #axes[1].set_yticks(np.arange(0, 0.5, 0.05))\n",
    "    axes[1].tick_params(axis='both', labelsize=14)\n",
    "    axes[1].grid(True)\n",
    "\n",
    "\n",
    "    # Subplot3: 2_outliers\n",
    "    axes[2].plot(points[:-1],outliers_2,'o-',color='darkorange')\n",
    "    #axes[2].set_xlabel(r'$Z_{phot}$', fontsize=20)\n",
    "    axes[2].set_ylabel('out$_{2σ}$', fontsize=20)\n",
    "    axes[2].set_xlim(x_lim)\n",
    "    #axes[2].set_ylim(0,max(outliers_2)+0.01)\n",
    "    axes[2].axhline(0.1, color='black', linestyle='--')\n",
    "    axes[2].tick_params(axis='both', labelsize=14)\n",
    "    axes[2].grid(True)\n",
    "    axes[2].yaxis.set_major_formatter(FormatStrFormatter('%.2f'))\n",
    "\n",
    "    # Subplot 4: 3_outliers\n",
    "    axes[3].plot(points[:-1], fraction_outliers, 'ro-')\n",
    "    axes[3].set_xlabel(r'$Z_{phot}$', fontsize=20)\n",
    "    axes[3].set_ylabel('out$_{3σ}$', fontsize=20)\n",
    "    axes[3].set_xlim(x_lim)\n",
    "    axes[3].set_ylim(0,max(fraction_outliers)+0.01)\n",
    "    axes[3].axhline(0.015, color='black', linestyle='--')\n",
    "    axes[3].tick_params(axis='both', labelsize=14)\n",
    "    axes[3].grid(True)\n",
    "\n",
    "\n",
    "    plt.xlim(0,points[-1])\n",
    "    # Ajuste o layout dos subplots\n",
    "    plt.tight_layout()\n",
    "    plt.savefig('/home/iago.dias/metrics.png')\n",
    "\n",
    "    # Exiba a figura\n",
    "    plt.show()\n"
   ]
  },
  {
   "cell_type": "code",
   "execution_count": 14,
   "id": "bd0ec2e4-b1c0-4510-bbb5-eb5ab19bc051",
   "metadata": {
    "tags": []
   },
   "outputs": [],
   "source": [
    "def metrics(zspec,zphot):\n",
    "    meanz = np.mean(zphot-zspec)\n",
    "    sigmaz = (np.sum((zphot-zspec-meanz)**2)/len(zphot))**0.5\n",
    "    s = np.sort(np.abs((zphot-zspec)/(1+zspec)))\n",
    "    sigmaz68 = s[int(len(s)*0.68)]\n",
    "    fraction3 = len(zphot[np.abs((zphot-zspec-meanz))>3*sigmaz])/len(zphot)\n",
    "    fraction2 = len(zphot[np.abs(zphot-zspec-meanz)>2*sigmaz])/len(zphot)\n",
    "    \n",
    "    print(f'Mean   : {meanz}\\n')\n",
    "    print(f'Sigma  : {sigmaz}\\n')\n",
    "    print(f'Sigma68: {sigmaz68}\\n')\n",
    "    print(f'Out_3  : {fraction3}\\n')\n",
    "    print(f'Out_2  : {fraction2}')"
   ]
  },
  {
   "cell_type": "code",
   "execution_count": 23,
   "id": "9e52d09f-21ec-4829-b1e1-861cff7c9f4b",
   "metadata": {
    "collapsed": true,
    "jupyter": {
     "outputs_hidden": true
    },
    "tags": []
   },
   "outputs": [
    {
     "data": {
      "text/plain": [
       "\"def weighting(n_near,phot,train):\\n    \\n    #train = train[((train['mag_auto_g']-train['mag_auto_r'])<2) & ((train['mag_auto_g']-train['mag_auto_r'])>0) & ((train['mag_auto_r']-train['mag_auto_i'])<2) & ((train['mag_auto_r']-train['mag_auto_i'])>0) & (train['mag_auto_i']<24) & (train['mag_auto_i']>18)]\\n\\n    train['weight']=0.0\\n    vector_phot = np.array([phot['mag_auto_g'],phot['mag_auto_r'],phot['mag_auto_i'],phot['mag_auto_z'],phot['mag_auto_y']])\\n    vector_phot = vector_phot.T\\n    vector_train = np.array([train['mag_auto_g'],train['mag_auto_r'],train['mag_auto_i'],train['mag_auto_z'],train['mag_auto_y']])\\n    vector_train = vector_train.T\\n\\n    for galaxy in tqdm(range(len(vector_train))):\\n        diff = vector_train-vector_train[galaxy]\\n        dist = np.sum(diff**2, axis=1)\\n        \\n        \\n        nearest = np.argsort(dist)[:n_near]\\n        max_dist = max(dist[nearest])\\n\\n        \\n        top = vector_train[galaxy] + np.sqrt(max_dist/5)\\n        bottom = vector_train[galaxy] - np.sqrt(max_dist/5)\\n        \\n        # Looking for N of photometric galaxies that are in volume defined by max dist\\n        n_phot=0\\n        for index in range(len(vector_phot)):\\n            obj = vector_phot[index]\\n            condition = (obj[0]<top[0]) & (obj[1]<top[1]) & (obj[2]<top[2]) & (obj[3]<top[3]) & (obj[4]<top[4]) & (obj[0]>bottom[0]) & (obj[1]>bottom[1]) & (obj[2]>bottom[2]) & (obj[3]>bottom[3]) & (obj[4]>bottom[4])\\n            if condition:\\n                n_phot+=1\\n            else:\\n                None\\n                \\n                \\n        weight = n_phot/(n_near*len(phot))\\n        \\n        train.at[train.index[galaxy], 'weight']=weight\\n    return train\""
      ]
     },
     "execution_count": 23,
     "metadata": {},
     "output_type": "execute_result"
    }
   ],
   "source": [
    "\n",
    "def weighting(n_near, phot, train):\n",
    "    train['weight'] = 0.0\n",
    "\n",
    "    phot_data = phot[['mag_auto_g', 'mag_auto_r', 'mag_auto_i', 'mag_auto_z', 'mag_auto_y']].values\n",
    "    train_data = train[['mag_auto_g', 'mag_auto_r', 'mag_auto_i', 'mag_auto_z', 'mag_auto_y']].values\n",
    "\n",
    "    for galaxy in tqdm(range(len(train_data))):\n",
    "        diff = train_data - train_data[galaxy]\n",
    "        dist = np.sum(diff**2, axis=1)\n",
    "\n",
    "        nearest = np.argpartition(dist, n_near)[:n_near]\n",
    "        max_dist = max(dist[nearest])\n",
    "\n",
    "        top = train_data[galaxy] + np.sqrt(max_dist / 5)\n",
    "        bottom = train_data[galaxy] - np.sqrt(max_dist / 5)\n",
    "\n",
    "        n_phot = 0\n",
    "\n",
    "        for obj in phot_data:\n",
    "            condition = all(bottom <= obj) and all(obj <= top)\n",
    "            if condition:\n",
    "                n_phot += 1\n",
    "\n",
    "        weight = n_phot / (n_near * len(phot))\n",
    "        train.at[train.index[galaxy], 'weight'] = weight\n",
    "\n",
    "    return train\n",
    "\n",
    "\n",
    "'''def weighting(n_near,phot,train):\n",
    "    \n",
    "    #train = train[((train['mag_auto_g']-train['mag_auto_r'])<2) & ((train['mag_auto_g']-train['mag_auto_r'])>0) & ((train['mag_auto_r']-train['mag_auto_i'])<2) & ((train['mag_auto_r']-train['mag_auto_i'])>0) & (train['mag_auto_i']<24) & (train['mag_auto_i']>18)]\n",
    "\n",
    "    train['weight']=0.0\n",
    "    vector_phot = np.array([phot['mag_auto_g'],phot['mag_auto_r'],phot['mag_auto_i'],phot['mag_auto_z'],phot['mag_auto_y']])\n",
    "    vector_phot = vector_phot.T\n",
    "    vector_train = np.array([train['mag_auto_g'],train['mag_auto_r'],train['mag_auto_i'],train['mag_auto_z'],train['mag_auto_y']])\n",
    "    vector_train = vector_train.T\n",
    "\n",
    "    for galaxy in tqdm(range(len(vector_train))):\n",
    "        diff = vector_train-vector_train[galaxy]\n",
    "        dist = np.sum(diff**2, axis=1)\n",
    "        \n",
    "        \n",
    "        nearest = np.argsort(dist)[:n_near]\n",
    "        max_dist = max(dist[nearest])\n",
    "\n",
    "        \n",
    "        top = vector_train[galaxy] + np.sqrt(max_dist/5)\n",
    "        bottom = vector_train[galaxy] - np.sqrt(max_dist/5)\n",
    "        \n",
    "        # Looking for N of photometric galaxies that are in volume defined by max dist\n",
    "        n_phot=0\n",
    "        for index in range(len(vector_phot)):\n",
    "            obj = vector_phot[index]\n",
    "            condition = (obj[0]<top[0]) & (obj[1]<top[1]) & (obj[2]<top[2]) & (obj[3]<top[3]) & (obj[4]<top[4]) & (obj[0]>bottom[0]) & (obj[1]>bottom[1]) & (obj[2]>bottom[2]) & (obj[3]>bottom[3]) & (obj[4]>bottom[4])\n",
    "            if condition:\n",
    "                n_phot+=1\n",
    "            else:\n",
    "                None\n",
    "                \n",
    "                \n",
    "        weight = n_phot/(n_near*len(phot))\n",
    "        \n",
    "        train.at[train.index[galaxy], 'weight']=weight\n",
    "    return train'''"
   ]
  },
  {
   "cell_type": "code",
   "execution_count": 16,
   "id": "b13357a3-09ab-4f9e-a8e9-ea7ebc196e82",
   "metadata": {
    "tags": []
   },
   "outputs": [],
   "source": [
    "def recalculation(n_near,phot,train,w_min):\n",
    "    modified_w = []\n",
    "    low_w = train[train['weight']>w_min]\n",
    "    \n",
    "    vector_phot = np.array([phot['mag_auto_g'],phot['mag_auto_r'],phot['mag_auto_i'],phot['mag_auto_z'],phot['mag_auto_y']])\n",
    "    vector_phot = vector_phot.T\n",
    "    vector_train = np.array([low_w['mag_auto_g'],low_w['mag_auto_r'],low_w['mag_auto_i'],low_w['mag_auto_z'],low_w['mag_auto_y']])\n",
    "    vector_train = vector_train.T\n",
    "    \n",
    "    for galaxy in tqdm(range(len(vector_train))):\n",
    "        diff = vector_train-vector_train[galaxy]\n",
    "        dist = np.sum(diff**2, axis=1)\n",
    "        \n",
    "        nearest = np.argsort(dist)[:n_near]\n",
    "        max_dist = max(dist[nearest])\n",
    "        \n",
    "        top = vector_train[galaxy] + np.sqrt(max_dist/5)\n",
    "        bottom = vector_train[galaxy] - np.sqrt(max_dist/5)\n",
    "        \n",
    "        # Looking for N of photometric galaxies that are in volume defined by max dist\n",
    "        n_phot=0\n",
    "        for index in range(len(vector_phot)):\n",
    "            obj = vector_phot[index]\n",
    "            condition = (obj[0]<top[0]) & (obj[1]<top[1]) & (obj[2]<top[2]) & (obj[3]<top[3]) & (obj[4]<top[4]) & (obj[0]>bottom[0]) & (obj[1]>bottom[1]) & (obj[2]>bottom[2]) & (obj[3]>bottom[3]) & (obj[4]>bottom[4])\n",
    "            if condition:\n",
    "                n_phot+=1\n",
    "            else:\n",
    "                None\n",
    "                \n",
    "        weight = n_phot/(n_near*len(phot))\n",
    "        \n",
    "        train.at[train.index[galaxy], 'weight']=weight\n",
    "    \n",
    "        \n",
    "    return train"
   ]
  },
  {
   "cell_type": "code",
   "execution_count": 17,
   "id": "6eadd572-6a54-4d89-8f24-3405bc476cd6",
   "metadata": {
    "tags": []
   },
   "outputs": [],
   "source": [
    "def plot_metrics_weight(zspec,zphot,w,maximum=round(max(zphot),1)):\n",
    "    \n",
    "    bins = np.arange(0.0, maximum, 0.1)\n",
    "    points = bins+0.05\n",
    "    fraction_outliers = []\n",
    "    sigma68z = []\n",
    "    sigmaz=[]\n",
    "    meanz = []\n",
    "    outliers_2 = []\n",
    "    w = np.array(w['weight'])\n",
    "\n",
    "\n",
    "    for index in range(len(bins) - 1):\n",
    "        bin_lower = bins[index]\n",
    "        bin_upper = bins[index + 1]\n",
    "    \n",
    "        values_r = zphot[(zphot >= bin_lower) & (zphot <= bin_upper)]\n",
    "        values_s = zspec[(zphot >= bin_lower) & (zphot <= bin_upper)]\n",
    "        w_bin = w[(zphot >= bin_lower) & (zphot <= bin_upper)]\n",
    "\n",
    "        \n",
    "        \n",
    "        deltabias = (values_r - values_s)\n",
    "        mean_bias = np.sum(w_bin*deltabias)/np.sum(w_bin)  # Mean bias for each bin\n",
    "        meanz.append(mean_bias)\n",
    "        \n",
    "        \n",
    "    \n",
    "        s = np.sort(np.abs(deltabias/(1+values_s)))  # Standard deviation (sigma) for each bin\n",
    "        sigma68 = s[int(len(s)*0.68)]\n",
    "        sigma68z.append(sigma68)\n",
    "        \n",
    "        \n",
    "\n",
    "        sigma = (np.sum(w_bin*(values_r-values_s-mean_bias)**2)/np.sum(w_bin))**0.5\n",
    "        sigmaz.append(sigma)\n",
    "    \n",
    "    \n",
    "    \n",
    "        # Calculate the fraction of outliers outside 3 sigma\n",
    "        outliers = deltabias[np.abs(deltabias-mean_bias) > 3 * sigma]\n",
    "        fraction_outlier = len(outliers) / len(deltabias)\n",
    "        fraction_outliers.append(fraction_outlier)\n",
    "    \n",
    "    \n",
    "    \n",
    "        #2 sigma\n",
    "        outliers2 = deltabias[np.abs(deltabias-mean_bias) > 2 * sigma]\n",
    "        fraction_outlier2 = len(outliers2) / len(deltabias)\n",
    "    \n",
    "    \n",
    "        outliers_2.append(fraction_outlier2)\n",
    "\n",
    "\n",
    "\n",
    "    fig, axes = plt.subplots(4, 1, figsize=(8, 14), sharex=True)\n",
    "    plt.subplots_adjust(hspace=0.001)  # Ajuste o espaço entre os subplots\n",
    "\n",
    "    # Configure os limites x comuns para todos os subplots\n",
    "    x_lim = (0, np.max(zphot))\n",
    "\n",
    "    # Subplot 1: Mean Bias\n",
    "    axes[0].plot(points[:-1], meanz, 'bo-')\n",
    "    axes[0].axhline(0, color='black', linestyle='--')\n",
    "    axes[0].set_ylabel(r'$\\Delta z$', fontsize=20)\n",
    "    axes[0].set_xlim(x_lim)\n",
    "    axes[0].tick_params(axis='both', labelsize=14)\n",
    "    axes[0].grid(True)\n",
    "\n",
    "    # Subplot 2: Standard Deviation\n",
    "    axes[1].plot(points[:-1], sigma68z, 'go-')\n",
    "    axes[1].set_ylabel(r'$\\sigma_{68}$', fontsize=20)\n",
    "    axes[1].set_xlim(x_lim)\n",
    "    axes[1].axhline(0.12, color='black', linestyle='--')\n",
    "    axes[1].set_ylim(0,max(sigmaz)+0.01)\n",
    "    axes[1].tick_params(axis='both', labelsize=14)\n",
    "    axes[1].grid(True)\n",
    "\n",
    "\n",
    "    # Subplot3: outlier\n",
    "    axes[2].plot(points[:-1],outliers_2,'o-',color='darkorange')\n",
    "    #axes[2].set_xlabel(r'$Z_{phot}$', fontsize=20)\n",
    "    axes[2].set_ylabel('out$_{2σ}$', fontsize=20)\n",
    "    axes[2].set_xlim(x_lim)\n",
    "    #axes[2].set_ylim(0,max(outliers_2)+0.01)\n",
    "    axes[2].axhline(0.1, color='black', linestyle='--')\n",
    "    axes[2].tick_params(axis='both', labelsize=14)\n",
    "    axes[2].grid(True)\n",
    "    axes[2].yaxis.set_major_formatter(FormatStrFormatter('%.2f'))\n",
    "\n",
    "    # Subplot 4: Outliers\n",
    "    axes[3].plot(points[:-1], fraction_outliers, 'ro-')\n",
    "    axes[3].set_xlabel(r'$Z_{phot}$', fontsize=20)\n",
    "    axes[3].set_ylabel('out$_{3σ}$', fontsize=20)\n",
    "    axes[3].set_xlim(x_lim)\n",
    "    axes[3].set_ylim(0,max(fraction_outliers)+0.01)\n",
    "    axes[3].axhline(0.015, color='black', linestyle='--')\n",
    "    axes[3].tick_params(axis='both', labelsize=14)\n",
    "    axes[3].grid(True)\n",
    "\n",
    "\n",
    "    plt.xlim(0,points[-1])\n",
    "    # Ajuste o layout dos subplots\n",
    "    plt.tight_layout()\n",
    "\n",
    "    plt.savefig('/home/iago.dias/weighted_metrics.png')\n",
    "    # Exiba a figura\n",
    "    plt.show()\n"
   ]
  },
  {
   "cell_type": "code",
   "execution_count": 18,
   "id": "3d440d44-ef20-42dd-ab08-9be008dab06b",
   "metadata": {
    "tags": []
   },
   "outputs": [],
   "source": [
    "def metrics_weight(zspec,zphot,weight):\n",
    "    w=weight['weight']\n",
    "    meanz = np.sum(w*(zphot-zspec))/np.sum(w)\n",
    "    sigmaz = (np.sum(w*(zphot-zspec-meanz)**2)/np.sum(w))**0.5\n",
    "    s = np.sort(np.abs((zphot-zspec)/(1+zspec)))\n",
    "    sigmaz68 = s[int(len(s)*0.68)]\n",
    "    fraction3 = len(zphot[np.abs((zphot-zspec-meanz))>3*sigmaz])/len(zphot)\n",
    "    fraction2 = len(zphot[np.abs(zphot-zspec-meanz)>2*sigmaz])/len(zphot)\n",
    "    print(f'Mean   : {meanz}\\n')\n",
    "    print(f'Sigma  : {sigmaz}\\n')\n",
    "    print(f'Sigma68: {sigmaz68}\\n')\n",
    "    print(f'Out_3  : {fraction3}\\n')\n",
    "    print(f'Out_2  : {fraction2}')"
   ]
  },
  {
   "cell_type": "code",
   "execution_count": 19,
   "id": "adc3c6c6-b27b-40a6-9b14-caf4ccc6496a",
   "metadata": {
    "tags": []
   },
   "outputs": [],
   "source": [
    "def plot_histogram_weight(spec,phot,w):\n",
    "    \n",
    "    plt.figure(figsize=(12,6))\n",
    "    \n",
    "    plt.subplot(1,2,1)\n",
    "    plt.hist(phot['mag_auto_g'],bins=30, density=True, color='red',histtype='step',label='photometric')\n",
    "    plt.hist(spec['mag_auto_g'],bins=30,density=True, color='black', histtype='step',label='spectroscopic')\n",
    "    plt.hist(w['mag_auto_g'],bins=30,density = True,color='blue',weights=w['weight'],histtype='step',label='spectroscopic weighted')\n",
    "    plt.legend(loc=1)\n",
    "    plt.xlabel('g')\n",
    "    plt.ylabel('normalized count')\n",
    "\n",
    "    plt.subplot(1,2,2)\n",
    "    plt.hist(phot['mag_auto_i'],bins=30, density=True, color='red',histtype='step',label='photometric')\n",
    "    plt.hist(spec['mag_auto_i'],bins=30,density=True, color='black', histtype='step',label='spectroscopic')\n",
    "    plt.hist(w['mag_auto_i'],bins=30,density = True,color='blue',weights=w['weight'],histtype='step',label='spectroscopic weighted')\n",
    "    plt.xlabel('i')\n",
    "    plt.ylabel('normalized count')\n",
    "    \n",
    "    plt.show()\n",
    "    "
   ]
  },
  {
   "cell_type": "markdown",
   "id": "05096085-1b76-47c5-9119-20c27d24f70a",
   "metadata": {
    "tags": []
   },
   "source": [
    "## Weighting \n",
    "\n",
    "Choose the best N_near for representative data"
   ]
  },
  {
   "cell_type": "code",
   "execution_count": 6,
   "id": "6027a122-3313-492a-8c7e-1b62a0a0f7fd",
   "metadata": {
    "tags": []
   },
   "outputs": [],
   "source": [
    "column_names2 = ['z','mag_auto_g','mag_auto_r','mag_auto_i','mag_auto_z','mag_auto_y','magerr_auto_g','magerr_auto_r','magerr_auto_i','magerr_auto_z','magerr_auto_y','g-r','r-i','i-z','z-y','eg-r','er-i','ei-z','ez-y']\n",
    "\n",
    "validation = pd.read_csv('/home/iago.dias/TPz_notebooks/iago/ml_analyses/samples/validation.DR2', sep=' ', names= column_names2, header = None, skiprows=1)\n",
    "\n",
    "\n"
   ]
  },
  {
   "cell_type": "code",
   "execution_count": 8,
   "id": "70878aac-2c29-4d34-8d02-e3fd063ab9c6",
   "metadata": {
    "tags": []
   },
   "outputs": [],
   "source": [
    "test = dr2_sample.sample(300)"
   ]
  },
  {
   "cell_type": "code",
   "execution_count": null,
   "id": "db12029b-2075-4c92-b0e3-0cb23005ba43",
   "metadata": {
    "tags": []
   },
   "outputs": [
    {
     "name": "stderr",
     "output_type": "stream",
     "text": [
      " 98%|█████████▊| 98125/100368 [11:14<00:15, 146.00it/s]"
     ]
    }
   ],
   "source": [
    "\n",
    "w = weighting(20000,test,validation)\n",
    "\n",
    "plot_histogram_weight(validation,dr2_sample,w)\n"
   ]
  },
  {
   "cell_type": "markdown",
   "id": "90477285-aed4-47a1-b292-39791e1c8b66",
   "metadata": {
    "tags": []
   },
   "source": [
    "## Plots analyses"
   ]
  },
  {
   "cell_type": "code",
   "execution_count": null,
   "id": "60e2cc07-6faa-4e95-af68-81819e04c34a",
   "metadata": {
    "tags": []
   },
   "outputs": [],
   "source": [
    "plot_metrics(zspec,zphot,1.2)"
   ]
  },
  {
   "cell_type": "code",
   "execution_count": null,
   "id": "3bf43d0f-64e9-41f1-857f-925f877dce5d",
   "metadata": {
    "tags": []
   },
   "outputs": [],
   "source": [
    "plot_metrics_weight(zspec,zphot,w,1.2)"
   ]
  },
  {
   "cell_type": "code",
   "execution_count": null,
   "id": "096af1c3-617f-4e72-aa11-6eea2e7d2c1d",
   "metadata": {
    "tags": []
   },
   "outputs": [],
   "source": [
    "metrics(zspec,zphot)"
   ]
  },
  {
   "cell_type": "code",
   "execution_count": null,
   "id": "b8092553-b1fa-41e7-b00c-0a60ea5b7777",
   "metadata": {
    "tags": []
   },
   "outputs": [],
   "source": [
    "metrics_weight(zspec,zphot,w)"
   ]
  },
  {
   "cell_type": "code",
   "execution_count": 29,
   "id": "3840e02c-47c6-4274-b649-8800b5045c48",
   "metadata": {
    "tags": []
   },
   "outputs": [
    {
     "data": {
      "image/png": "[encoded data removed]",
      "text/plain": [
       "<Figure size 800x600 with 2 Axes>"
      ]
     },
     "metadata": {},
     "output_type": "display_data"
    }
   ],
   "source": [
    "plot_scatter(zspec,zphot)"
   ]
  },
  {
   "cell_type": "code",
   "execution_count": null,
   "id": "fe9e9435-df26-4b6b-ab3c-f8e98025bb66",
   "metadata": {},
   "outputs": [],
   "source": []
  }
 ],
 "metadata": {
  "kernelspec": {
   "display_name": "Python 3 (ipykernel)",
   "language": "python",
   "name": "python3"
  },
  "language_info": {
   "codemirror_mode": {
    "name": "ipython",
    "version": 3
   },
   "file_extension": ".py",
   "mimetype": "text/x-python",
   "name": "python",
   "nbconvert_exporter": "python",
   "pygments_lexer": "ipython3",
   "version": "3.10.10"
  }
 },
 "nbformat": 4,
 "nbformat_minor": 5
}
